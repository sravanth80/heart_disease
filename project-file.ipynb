{
 "cells": [
  {
   "cell_type": "code",
   "execution_count": 55,
   "id": "secure-stage",
   "metadata": {},
   "outputs": [],
   "source": [
    "# setting up the environment\n",
    "import pandas as pd\n",
    "import numpy as np\n",
    "import matplotlib.pyplot as plt\n",
    "%matplotlib inline\n",
    "from sklearn.model_selection import train_test_split, cross_val_score, GridSearchCV, RandomizedSearchCV\n",
    "from sklearn.preprocessing import OneHotEncoder\n",
    "from sklearn.compose import ColumnTransformer\n",
    "from sklearn.impute import SimpleImputer\n",
    "from sklearn.ensemble import RandomForestClassifier\n",
    "from sklearn.metrics import accuracy_score,auc,confusion_matrix,f1_score,precision_score,recall_score\n",
    "import seaborn as sns\n"
   ]
  },
  {
   "cell_type": "code",
   "execution_count": 3,
   "id": "future-biodiversity",
   "metadata": {},
   "outputs": [
    {
     "data": {
      "text/html": [
       "<div>\n",
       "<style scoped>\n",
       "    .dataframe tbody tr th:only-of-type {\n",
       "        vertical-align: middle;\n",
       "    }\n",
       "\n",
       "    .dataframe tbody tr th {\n",
       "        vertical-align: top;\n",
       "    }\n",
       "\n",
       "    .dataframe thead th {\n",
       "        text-align: right;\n",
       "    }\n",
       "</style>\n",
       "<table border=\"1\" class=\"dataframe\">\n",
       "  <thead>\n",
       "    <tr style=\"text-align: right;\">\n",
       "      <th></th>\n",
       "      <th>age</th>\n",
       "      <th>sex</th>\n",
       "      <th>cp</th>\n",
       "      <th>trestbps</th>\n",
       "      <th>chol</th>\n",
       "      <th>fbs</th>\n",
       "      <th>restecg</th>\n",
       "      <th>thalach</th>\n",
       "      <th>exang</th>\n",
       "      <th>oldpeak</th>\n",
       "      <th>slope</th>\n",
       "      <th>ca</th>\n",
       "      <th>thal</th>\n",
       "      <th>target</th>\n",
       "    </tr>\n",
       "  </thead>\n",
       "  <tbody>\n",
       "    <tr>\n",
       "      <th>0</th>\n",
       "      <td>63</td>\n",
       "      <td>1</td>\n",
       "      <td>3</td>\n",
       "      <td>145</td>\n",
       "      <td>233</td>\n",
       "      <td>1</td>\n",
       "      <td>0</td>\n",
       "      <td>150</td>\n",
       "      <td>0</td>\n",
       "      <td>2.3</td>\n",
       "      <td>0</td>\n",
       "      <td>0</td>\n",
       "      <td>1</td>\n",
       "      <td>1</td>\n",
       "    </tr>\n",
       "    <tr>\n",
       "      <th>1</th>\n",
       "      <td>37</td>\n",
       "      <td>1</td>\n",
       "      <td>2</td>\n",
       "      <td>130</td>\n",
       "      <td>250</td>\n",
       "      <td>0</td>\n",
       "      <td>1</td>\n",
       "      <td>187</td>\n",
       "      <td>0</td>\n",
       "      <td>3.5</td>\n",
       "      <td>0</td>\n",
       "      <td>0</td>\n",
       "      <td>2</td>\n",
       "      <td>1</td>\n",
       "    </tr>\n",
       "    <tr>\n",
       "      <th>2</th>\n",
       "      <td>41</td>\n",
       "      <td>0</td>\n",
       "      <td>1</td>\n",
       "      <td>130</td>\n",
       "      <td>204</td>\n",
       "      <td>0</td>\n",
       "      <td>0</td>\n",
       "      <td>172</td>\n",
       "      <td>0</td>\n",
       "      <td>1.4</td>\n",
       "      <td>2</td>\n",
       "      <td>0</td>\n",
       "      <td>2</td>\n",
       "      <td>1</td>\n",
       "    </tr>\n",
       "    <tr>\n",
       "      <th>3</th>\n",
       "      <td>56</td>\n",
       "      <td>1</td>\n",
       "      <td>1</td>\n",
       "      <td>120</td>\n",
       "      <td>236</td>\n",
       "      <td>0</td>\n",
       "      <td>1</td>\n",
       "      <td>178</td>\n",
       "      <td>0</td>\n",
       "      <td>0.8</td>\n",
       "      <td>2</td>\n",
       "      <td>0</td>\n",
       "      <td>2</td>\n",
       "      <td>1</td>\n",
       "    </tr>\n",
       "    <tr>\n",
       "      <th>4</th>\n",
       "      <td>57</td>\n",
       "      <td>0</td>\n",
       "      <td>0</td>\n",
       "      <td>120</td>\n",
       "      <td>354</td>\n",
       "      <td>0</td>\n",
       "      <td>1</td>\n",
       "      <td>163</td>\n",
       "      <td>1</td>\n",
       "      <td>0.6</td>\n",
       "      <td>2</td>\n",
       "      <td>0</td>\n",
       "      <td>2</td>\n",
       "      <td>1</td>\n",
       "    </tr>\n",
       "    <tr>\n",
       "      <th>...</th>\n",
       "      <td>...</td>\n",
       "      <td>...</td>\n",
       "      <td>...</td>\n",
       "      <td>...</td>\n",
       "      <td>...</td>\n",
       "      <td>...</td>\n",
       "      <td>...</td>\n",
       "      <td>...</td>\n",
       "      <td>...</td>\n",
       "      <td>...</td>\n",
       "      <td>...</td>\n",
       "      <td>...</td>\n",
       "      <td>...</td>\n",
       "      <td>...</td>\n",
       "    </tr>\n",
       "    <tr>\n",
       "      <th>298</th>\n",
       "      <td>57</td>\n",
       "      <td>0</td>\n",
       "      <td>0</td>\n",
       "      <td>140</td>\n",
       "      <td>241</td>\n",
       "      <td>0</td>\n",
       "      <td>1</td>\n",
       "      <td>123</td>\n",
       "      <td>1</td>\n",
       "      <td>0.2</td>\n",
       "      <td>1</td>\n",
       "      <td>0</td>\n",
       "      <td>3</td>\n",
       "      <td>0</td>\n",
       "    </tr>\n",
       "    <tr>\n",
       "      <th>299</th>\n",
       "      <td>45</td>\n",
       "      <td>1</td>\n",
       "      <td>3</td>\n",
       "      <td>110</td>\n",
       "      <td>264</td>\n",
       "      <td>0</td>\n",
       "      <td>1</td>\n",
       "      <td>132</td>\n",
       "      <td>0</td>\n",
       "      <td>1.2</td>\n",
       "      <td>1</td>\n",
       "      <td>0</td>\n",
       "      <td>3</td>\n",
       "      <td>0</td>\n",
       "    </tr>\n",
       "    <tr>\n",
       "      <th>300</th>\n",
       "      <td>68</td>\n",
       "      <td>1</td>\n",
       "      <td>0</td>\n",
       "      <td>144</td>\n",
       "      <td>193</td>\n",
       "      <td>1</td>\n",
       "      <td>1</td>\n",
       "      <td>141</td>\n",
       "      <td>0</td>\n",
       "      <td>3.4</td>\n",
       "      <td>1</td>\n",
       "      <td>2</td>\n",
       "      <td>3</td>\n",
       "      <td>0</td>\n",
       "    </tr>\n",
       "    <tr>\n",
       "      <th>301</th>\n",
       "      <td>57</td>\n",
       "      <td>1</td>\n",
       "      <td>0</td>\n",
       "      <td>130</td>\n",
       "      <td>131</td>\n",
       "      <td>0</td>\n",
       "      <td>1</td>\n",
       "      <td>115</td>\n",
       "      <td>1</td>\n",
       "      <td>1.2</td>\n",
       "      <td>1</td>\n",
       "      <td>1</td>\n",
       "      <td>3</td>\n",
       "      <td>0</td>\n",
       "    </tr>\n",
       "    <tr>\n",
       "      <th>302</th>\n",
       "      <td>57</td>\n",
       "      <td>0</td>\n",
       "      <td>1</td>\n",
       "      <td>130</td>\n",
       "      <td>236</td>\n",
       "      <td>0</td>\n",
       "      <td>0</td>\n",
       "      <td>174</td>\n",
       "      <td>0</td>\n",
       "      <td>0.0</td>\n",
       "      <td>1</td>\n",
       "      <td>1</td>\n",
       "      <td>2</td>\n",
       "      <td>0</td>\n",
       "    </tr>\n",
       "  </tbody>\n",
       "</table>\n",
       "<p>303 rows × 14 columns</p>\n",
       "</div>"
      ],
      "text/plain": [
       "     age  sex  cp  trestbps  chol  fbs  restecg  thalach  exang  oldpeak  \\\n",
       "0     63    1   3       145   233    1        0      150      0      2.3   \n",
       "1     37    1   2       130   250    0        1      187      0      3.5   \n",
       "2     41    0   1       130   204    0        0      172      0      1.4   \n",
       "3     56    1   1       120   236    0        1      178      0      0.8   \n",
       "4     57    0   0       120   354    0        1      163      1      0.6   \n",
       "..   ...  ...  ..       ...   ...  ...      ...      ...    ...      ...   \n",
       "298   57    0   0       140   241    0        1      123      1      0.2   \n",
       "299   45    1   3       110   264    0        1      132      0      1.2   \n",
       "300   68    1   0       144   193    1        1      141      0      3.4   \n",
       "301   57    1   0       130   131    0        1      115      1      1.2   \n",
       "302   57    0   1       130   236    0        0      174      0      0.0   \n",
       "\n",
       "     slope  ca  thal  target  \n",
       "0        0   0     1       1  \n",
       "1        0   0     2       1  \n",
       "2        2   0     2       1  \n",
       "3        2   0     2       1  \n",
       "4        2   0     2       1  \n",
       "..     ...  ..   ...     ...  \n",
       "298      1   0     3       0  \n",
       "299      1   0     3       0  \n",
       "300      1   2     3       0  \n",
       "301      1   1     3       0  \n",
       "302      1   1     2       0  \n",
       "\n",
       "[303 rows x 14 columns]"
      ]
     },
     "execution_count": 3,
     "metadata": {},
     "output_type": "execute_result"
    }
   ],
   "source": [
    "heart_disease = pd.read_csv(\"heart-disease.csv\")\n",
    "heart_disease"
   ]
  },
  {
   "cell_type": "code",
   "execution_count": 4,
   "id": "nonprofit-republican",
   "metadata": {},
   "outputs": [
    {
     "data": {
      "text/plain": [
       "0    143\n",
       "2     87\n",
       "1     50\n",
       "3     23\n",
       "Name: cp, dtype: int64"
      ]
     },
     "execution_count": 4,
     "metadata": {},
     "output_type": "execute_result"
    }
   ],
   "source": [
    "heart_disease.cp.value_counts()"
   ]
  },
  {
   "cell_type": "markdown",
   "id": "friendly-scope",
   "metadata": {},
   "source": [
    "# Data Visualization"
   ]
  },
  {
   "cell_type": "code",
   "execution_count": 5,
   "id": "every-memorabilia",
   "metadata": {},
   "outputs": [
    {
     "data": {
      "image/png": "[encoded data removed]",
      "text/plain": [
       "<Figure size 720x360 with 1 Axes>"
      ]
     },
     "metadata": {
      "needs_background": "light"
     },
     "output_type": "display_data"
    }
   ],
   "source": [
    "#chest pain types in males and females\n",
    "pd.crosstab(heart_disease.cp,heart_disease.sex).plot(kind='bar',figsize=(10,5),color=['lightblue','lightgreen']);\n",
    "plt.legend(['females','males']);\n",
    "plt.title(\"Chest pain types for males and females\")\n",
    "plt.xlabel(\"0-typical angina  1-atypical angina  2-non-anginal pain  3-asymptomatic\")\n",
    "plt.xticks(rotation=0);"
   ]
  },
  {
   "cell_type": "code",
   "execution_count": 6,
   "id": "fundamental-zoning",
   "metadata": {},
   "outputs": [
    {
     "data": {
      "image/png": "[encoded data removed]",
      "text/plain": [
       "<Figure size 720x360 with 1 Axes>"
      ]
     },
     "metadata": {
      "needs_background": "light"
     },
     "output_type": "display_data"
    }
   ],
   "source": [
    "# pd.crosstab(heart_disease.target,heart_disease.sex)\n",
    "pd.crosstab(heart_disease.target,heart_disease.sex).plot(kind='bar',figsize=(10,5),color=['pink','lightblue']);\n",
    "plt.legend(['females','males']);\n",
    "plt.title(\"Males and Females having heart problems\")\n",
    "plt.xlabel('0-No heart problem, 1-Heart problem')\n",
    "plt.ylabel(\"Frequency\")\n",
    "plt.xticks(rotation=0);\n"
   ]
  },
  {
   "cell_type": "code",
   "execution_count": 7,
   "id": "excess-given",
   "metadata": {},
   "outputs": [
    {
     "data": {
      "image/png": "[encoded data removed]",
      "text/plain": [
       "<Figure size 720x360 with 1 Axes>"
      ]
     },
     "metadata": {
      "needs_background": "light"
     },
     "output_type": "display_data"
    }
   ],
   "source": [
    "# mean age= 54\n",
    "# people above and below the mean age\n",
    "(heart_disease.age > heart_disease.age.mean()).value_counts().plot(kind='bar',color=['red','blue'],figsize=(10,5));"
   ]
  },
  {
   "cell_type": "code",
   "execution_count": 8,
   "id": "scenic-weekly",
   "metadata": {},
   "outputs": [
    {
     "data": {
      "image/png": "[encoded data removed]",
      "text/plain": [
       "<Figure size 720x360 with 1 Axes>"
      ]
     },
     "metadata": {
      "needs_background": "light"
     },
     "output_type": "display_data"
    }
   ],
   "source": [
    "plt.figure(figsize=(10,5))\n",
    "plt.scatter(x=heart_disease.age[heart_disease.target==0],\n",
    "           y=heart_disease.thalach[heart_disease.target==0])\n",
    "plt.scatter(x=heart_disease.age[heart_disease.target==1],\n",
    "           y=heart_disease.thalach[heart_disease.target==1]);\n",
    "plt.legend(['no heart disease','heart disease']);\n"
   ]
  },
  {
   "cell_type": "code",
   "execution_count": 9,
   "id": "hispanic-smile",
   "metadata": {},
   "outputs": [],
   "source": [
    "#correlation matrix\n",
    "corr_matrix=heart_disease.corr()"
   ]
  },
  {
   "cell_type": "code",
   "execution_count": 10,
   "id": "downtown-mattress",
   "metadata": {},
   "outputs": [
    {
     "data": {
      "image/png": "[encoded data removed]",
      "text/plain": [
       "<Figure size 720x360 with 2 Axes>"
      ]
     },
     "metadata": {
      "needs_background": "light"
     },
     "output_type": "display_data"
    }
   ],
   "source": [
    "fig,ax = plt.subplots(figsize=(10,5))\n",
    "ax = sns.heatmap(corr_matrix,annot=True,linewidths=0.5,fmt=\".2f\",cmap=\"YlGnBu\");"
   ]
  },
  {
   "cell_type": "markdown",
   "id": "fifth-advisory",
   "metadata": {},
   "source": [
    "# model selections"
   ]
  },
  {
   "cell_type": "code",
   "execution_count": 11,
   "id": "historical-hamilton",
   "metadata": {},
   "outputs": [],
   "source": [
    "#KNeighborsClassifier\n",
    "#RandomForestClassifier\n",
    "#NuSVC\n",
    "#LogisticRegression\n",
    "from sklearn.neighbors import KNeighborsClassifier\n",
    "from sklearn.svm import NuSVC\n",
    "from sklearn.linear_model import LogisticRegression\n",
    "models = {\n",
    "        \"kneighbour\" : KNeighborsClassifier(),\n",
    "        \"NuSVC\" : NuSVC(),\n",
    "        \"Random_forest\" : RandomForestClassifier(),\n",
    "        \"LogisticRegression\" : LogisticRegression()\n",
    "}\n",
    "def train_test_model(models,x_train,y_train,x_test,y_test):\n",
    "    np.random.seed(7)\n",
    "    model_scores={}\n",
    "    for name,model in models.items():\n",
    "        model.fit(x_train,y_train)\n",
    "        model_scores[name] = model.score(x_test,y_test)\n",
    "    return model_scores\n"
   ]
  },
  {
   "cell_type": "code",
   "execution_count": 12,
   "id": "every-milan",
   "metadata": {},
   "outputs": [],
   "source": [
    "x = heart_disease.drop(\"target\",axis=1)\n",
    "y = heart_disease.target"
   ]
  },
  {
   "cell_type": "code",
   "execution_count": 13,
   "id": "focused-possession",
   "metadata": {},
   "outputs": [
    {
     "data": {
      "text/html": [
       "<div>\n",
       "<style scoped>\n",
       "    .dataframe tbody tr th:only-of-type {\n",
       "        vertical-align: middle;\n",
       "    }\n",
       "\n",
       "    .dataframe tbody tr th {\n",
       "        vertical-align: top;\n",
       "    }\n",
       "\n",
       "    .dataframe thead th {\n",
       "        text-align: right;\n",
       "    }\n",
       "</style>\n",
       "<table border=\"1\" class=\"dataframe\">\n",
       "  <thead>\n",
       "    <tr style=\"text-align: right;\">\n",
       "      <th></th>\n",
       "      <th>age</th>\n",
       "      <th>sex</th>\n",
       "      <th>cp</th>\n",
       "      <th>trestbps</th>\n",
       "      <th>chol</th>\n",
       "      <th>fbs</th>\n",
       "      <th>restecg</th>\n",
       "      <th>thalach</th>\n",
       "      <th>exang</th>\n",
       "      <th>oldpeak</th>\n",
       "      <th>slope</th>\n",
       "      <th>ca</th>\n",
       "      <th>thal</th>\n",
       "    </tr>\n",
       "  </thead>\n",
       "  <tbody>\n",
       "    <tr>\n",
       "      <th>0</th>\n",
       "      <td>63</td>\n",
       "      <td>1</td>\n",
       "      <td>3</td>\n",
       "      <td>145</td>\n",
       "      <td>233</td>\n",
       "      <td>1</td>\n",
       "      <td>0</td>\n",
       "      <td>150</td>\n",
       "      <td>0</td>\n",
       "      <td>2.3</td>\n",
       "      <td>0</td>\n",
       "      <td>0</td>\n",
       "      <td>1</td>\n",
       "    </tr>\n",
       "    <tr>\n",
       "      <th>1</th>\n",
       "      <td>37</td>\n",
       "      <td>1</td>\n",
       "      <td>2</td>\n",
       "      <td>130</td>\n",
       "      <td>250</td>\n",
       "      <td>0</td>\n",
       "      <td>1</td>\n",
       "      <td>187</td>\n",
       "      <td>0</td>\n",
       "      <td>3.5</td>\n",
       "      <td>0</td>\n",
       "      <td>0</td>\n",
       "      <td>2</td>\n",
       "    </tr>\n",
       "    <tr>\n",
       "      <th>2</th>\n",
       "      <td>41</td>\n",
       "      <td>0</td>\n",
       "      <td>1</td>\n",
       "      <td>130</td>\n",
       "      <td>204</td>\n",
       "      <td>0</td>\n",
       "      <td>0</td>\n",
       "      <td>172</td>\n",
       "      <td>0</td>\n",
       "      <td>1.4</td>\n",
       "      <td>2</td>\n",
       "      <td>0</td>\n",
       "      <td>2</td>\n",
       "    </tr>\n",
       "    <tr>\n",
       "      <th>3</th>\n",
       "      <td>56</td>\n",
       "      <td>1</td>\n",
       "      <td>1</td>\n",
       "      <td>120</td>\n",
       "      <td>236</td>\n",
       "      <td>0</td>\n",
       "      <td>1</td>\n",
       "      <td>178</td>\n",
       "      <td>0</td>\n",
       "      <td>0.8</td>\n",
       "      <td>2</td>\n",
       "      <td>0</td>\n",
       "      <td>2</td>\n",
       "    </tr>\n",
       "    <tr>\n",
       "      <th>4</th>\n",
       "      <td>57</td>\n",
       "      <td>0</td>\n",
       "      <td>0</td>\n",
       "      <td>120</td>\n",
       "      <td>354</td>\n",
       "      <td>0</td>\n",
       "      <td>1</td>\n",
       "      <td>163</td>\n",
       "      <td>1</td>\n",
       "      <td>0.6</td>\n",
       "      <td>2</td>\n",
       "      <td>0</td>\n",
       "      <td>2</td>\n",
       "    </tr>\n",
       "    <tr>\n",
       "      <th>...</th>\n",
       "      <td>...</td>\n",
       "      <td>...</td>\n",
       "      <td>...</td>\n",
       "      <td>...</td>\n",
       "      <td>...</td>\n",
       "      <td>...</td>\n",
       "      <td>...</td>\n",
       "      <td>...</td>\n",
       "      <td>...</td>\n",
       "      <td>...</td>\n",
       "      <td>...</td>\n",
       "      <td>...</td>\n",
       "      <td>...</td>\n",
       "    </tr>\n",
       "    <tr>\n",
       "      <th>298</th>\n",
       "      <td>57</td>\n",
       "      <td>0</td>\n",
       "      <td>0</td>\n",
       "      <td>140</td>\n",
       "      <td>241</td>\n",
       "      <td>0</td>\n",
       "      <td>1</td>\n",
       "      <td>123</td>\n",
       "      <td>1</td>\n",
       "      <td>0.2</td>\n",
       "      <td>1</td>\n",
       "      <td>0</td>\n",
       "      <td>3</td>\n",
       "    </tr>\n",
       "    <tr>\n",
       "      <th>299</th>\n",
       "      <td>45</td>\n",
       "      <td>1</td>\n",
       "      <td>3</td>\n",
       "      <td>110</td>\n",
       "      <td>264</td>\n",
       "      <td>0</td>\n",
       "      <td>1</td>\n",
       "      <td>132</td>\n",
       "      <td>0</td>\n",
       "      <td>1.2</td>\n",
       "      <td>1</td>\n",
       "      <td>0</td>\n",
       "      <td>3</td>\n",
       "    </tr>\n",
       "    <tr>\n",
       "      <th>300</th>\n",
       "      <td>68</td>\n",
       "      <td>1</td>\n",
       "      <td>0</td>\n",
       "      <td>144</td>\n",
       "      <td>193</td>\n",
       "      <td>1</td>\n",
       "      <td>1</td>\n",
       "      <td>141</td>\n",
       "      <td>0</td>\n",
       "      <td>3.4</td>\n",
       "      <td>1</td>\n",
       "      <td>2</td>\n",
       "      <td>3</td>\n",
       "    </tr>\n",
       "    <tr>\n",
       "      <th>301</th>\n",
       "      <td>57</td>\n",
       "      <td>1</td>\n",
       "      <td>0</td>\n",
       "      <td>130</td>\n",
       "      <td>131</td>\n",
       "      <td>0</td>\n",
       "      <td>1</td>\n",
       "      <td>115</td>\n",
       "      <td>1</td>\n",
       "      <td>1.2</td>\n",
       "      <td>1</td>\n",
       "      <td>1</td>\n",
       "      <td>3</td>\n",
       "    </tr>\n",
       "    <tr>\n",
       "      <th>302</th>\n",
       "      <td>57</td>\n",
       "      <td>0</td>\n",
       "      <td>1</td>\n",
       "      <td>130</td>\n",
       "      <td>236</td>\n",
       "      <td>0</td>\n",
       "      <td>0</td>\n",
       "      <td>174</td>\n",
       "      <td>0</td>\n",
       "      <td>0.0</td>\n",
       "      <td>1</td>\n",
       "      <td>1</td>\n",
       "      <td>2</td>\n",
       "    </tr>\n",
       "  </tbody>\n",
       "</table>\n",
       "<p>303 rows × 13 columns</p>\n",
       "</div>"
      ],
      "text/plain": [
       "     age  sex  cp  trestbps  chol  fbs  restecg  thalach  exang  oldpeak  \\\n",
       "0     63    1   3       145   233    1        0      150      0      2.3   \n",
       "1     37    1   2       130   250    0        1      187      0      3.5   \n",
       "2     41    0   1       130   204    0        0      172      0      1.4   \n",
       "3     56    1   1       120   236    0        1      178      0      0.8   \n",
       "4     57    0   0       120   354    0        1      163      1      0.6   \n",
       "..   ...  ...  ..       ...   ...  ...      ...      ...    ...      ...   \n",
       "298   57    0   0       140   241    0        1      123      1      0.2   \n",
       "299   45    1   3       110   264    0        1      132      0      1.2   \n",
       "300   68    1   0       144   193    1        1      141      0      3.4   \n",
       "301   57    1   0       130   131    0        1      115      1      1.2   \n",
       "302   57    0   1       130   236    0        0      174      0      0.0   \n",
       "\n",
       "     slope  ca  thal  \n",
       "0        0   0     1  \n",
       "1        0   0     2  \n",
       "2        2   0     2  \n",
       "3        2   0     2  \n",
       "4        2   0     2  \n",
       "..     ...  ..   ...  \n",
       "298      1   0     3  \n",
       "299      1   0     3  \n",
       "300      1   2     3  \n",
       "301      1   1     3  \n",
       "302      1   1     2  \n",
       "\n",
       "[303 rows x 13 columns]"
      ]
     },
     "execution_count": 13,
     "metadata": {},
     "output_type": "execute_result"
    }
   ],
   "source": [
    "x"
   ]
  },
  {
   "cell_type": "code",
   "execution_count": 15,
   "id": "consolidated-sleeve",
   "metadata": {},
   "outputs": [
    {
     "data": {
      "text/plain": [
       "0      1\n",
       "1      1\n",
       "2      1\n",
       "3      1\n",
       "4      1\n",
       "      ..\n",
       "298    0\n",
       "299    0\n",
       "300    0\n",
       "301    0\n",
       "302    0\n",
       "Name: target, Length: 303, dtype: int64"
      ]
     },
     "execution_count": 15,
     "metadata": {},
     "output_type": "execute_result"
    }
   ],
   "source": [
    "y\n"
   ]
  },
  {
   "cell_type": "code",
   "execution_count": 14,
   "id": "responsible-davis",
   "metadata": {},
   "outputs": [],
   "source": [
    "x_train,x_test,y_train,y_test = train_test_split(x,y,test_size=0.2)"
   ]
  },
  {
   "cell_type": "code",
   "execution_count": 15,
   "id": "joint-bennett",
   "metadata": {},
   "outputs": [
    {
     "name": "stderr",
     "output_type": "stream",
     "text": [
      "/home/spectre/Desktop/heart-disease-project/env/lib/python3.8/site-packages/sklearn/linear_model/_logistic.py:763: ConvergenceWarning: lbfgs failed to converge (status=1):\n",
      "STOP: TOTAL NO. of ITERATIONS REACHED LIMIT.\n",
      "\n",
      "Increase the number of iterations (max_iter) or scale the data as shown in:\n",
      "    https://scikit-learn.org/stable/modules/preprocessing.html\n",
      "Please also refer to the documentation for alternative solver options:\n",
      "    https://scikit-learn.org/stable/modules/linear_model.html#logistic-regression\n",
      "  n_iter_i = _check_optimize_result(\n"
     ]
    }
   ],
   "source": [
    "model_scores = train_test_model(models=models,\n",
    "                              x_train=x_train,\n",
    "                              y_train=y_train,\n",
    "                              x_test=x_test,\n",
    "                              y_test=y_test)"
   ]
  },
  {
   "cell_type": "code",
   "execution_count": 16,
   "id": "alike-simulation",
   "metadata": {},
   "outputs": [
    {
     "data": {
      "text/plain": [
       "{'kneighbour': 0.639344262295082,\n",
       " 'NuSVC': 0.8360655737704918,\n",
       " 'Random_forest': 0.8524590163934426,\n",
       " 'LogisticRegression': 0.8524590163934426}"
      ]
     },
     "execution_count": 16,
     "metadata": {},
     "output_type": "execute_result"
    }
   ],
   "source": [
    "model_scores"
   ]
  },
  {
   "cell_type": "code",
   "execution_count": 17,
   "id": "played-lightning",
   "metadata": {},
   "outputs": [],
   "source": [
    "model_scores_show = pd.DataFrame(model_scores,index=[\"Accuracy\"])"
   ]
  },
  {
   "cell_type": "code",
   "execution_count": 18,
   "id": "spoken-karaoke",
   "metadata": {},
   "outputs": [
    {
     "data": {
      "image/png": "[encoded data removed]",
      "text/plain": [
       "<Figure size 432x288 with 1 Axes>"
      ]
     },
     "metadata": {
      "needs_background": "light"
     },
     "output_type": "display_data"
    }
   ],
   "source": [
    "model_scores_show.T.plot.bar();"
   ]
  },
  {
   "cell_type": "code",
   "execution_count": 19,
   "id": "adult-privilege",
   "metadata": {},
   "outputs": [
    {
     "data": {
      "text/plain": [
       "[1.0,\n",
       " 0.8099173553719008,\n",
       " 0.768595041322314,\n",
       " 0.768595041322314,\n",
       " 0.7644628099173554,\n",
       " 0.78099173553719,\n",
       " 0.7520661157024794,\n",
       " 0.7231404958677686,\n",
       " 0.7107438016528925,\n",
       " 0.7107438016528925,\n",
       " 0.7066115702479339,\n",
       " 0.7024793388429752,\n",
       " 0.7024793388429752,\n",
       " 0.6983471074380165,\n",
       " 0.7107438016528925,\n",
       " 0.6983471074380165,\n",
       " 0.6942148760330579,\n",
       " 0.6942148760330579,\n",
       " 0.6900826446280992,\n",
       " 0.6942148760330579,\n",
       " 0.6983471074380165,\n",
       " 0.7066115702479339,\n",
       " 0.7066115702479339,\n",
       " 0.7024793388429752,\n",
       " 0.7066115702479339,\n",
       " 0.7066115702479339,\n",
       " 0.71900826446281,\n",
       " 0.7148760330578512,\n",
       " 0.7272727272727273,\n",
       " 0.731404958677686,\n",
       " 0.731404958677686,\n",
       " 0.6942148760330579,\n",
       " 0.7107438016528925,\n",
       " 0.6900826446280992,\n",
       " 0.6900826446280992,\n",
       " 0.6859504132231405,\n",
       " 0.6735537190082644,\n",
       " 0.6694214876033058,\n",
       " 0.6735537190082644,\n",
       " 0.6818181818181818,\n",
       " 0.6776859504132231,\n",
       " 0.6735537190082644,\n",
       " 0.6776859504132231,\n",
       " 0.6818181818181818,\n",
       " 0.6776859504132231,\n",
       " 0.6859504132231405,\n",
       " 0.6735537190082644,\n",
       " 0.6942148760330579,\n",
       " 0.6818181818181818,\n",
       " 0.6983471074380165,\n",
       " 0.6818181818181818,\n",
       " 0.6776859504132231,\n",
       " 0.6652892561983471,\n",
       " 0.6652892561983471,\n",
       " 0.6611570247933884,\n",
       " 0.6652892561983471,\n",
       " 0.6528925619834711,\n",
       " 0.6528925619834711,\n",
       " 0.6611570247933884,\n",
       " 0.6570247933884298,\n",
       " 0.6611570247933884,\n",
       " 0.6528925619834711,\n",
       " 0.6487603305785123,\n",
       " 0.6528925619834711,\n",
       " 0.6652892561983471,\n",
       " 0.6570247933884298,\n",
       " 0.6446280991735537,\n",
       " 0.6611570247933884,\n",
       " 0.6363636363636364,\n",
       " 0.6611570247933884,\n",
       " 0.6487603305785123,\n",
       " 0.6322314049586777,\n",
       " 0.6198347107438017,\n",
       " 0.6487603305785123,\n",
       " 0.6363636363636364,\n",
       " 0.6528925619834711,\n",
       " 0.640495867768595,\n",
       " 0.640495867768595,\n",
       " 0.6363636363636364,\n",
       " 0.640495867768595,\n",
       " 0.6322314049586777,\n",
       " 0.640495867768595,\n",
       " 0.6363636363636364,\n",
       " 0.6322314049586777,\n",
       " 0.6363636363636364,\n",
       " 0.640495867768595,\n",
       " 0.6446280991735537,\n",
       " 0.628099173553719,\n",
       " 0.6322314049586777,\n",
       " 0.6239669421487604,\n",
       " 0.6363636363636364,\n",
       " 0.6239669421487604,\n",
       " 0.6239669421487604,\n",
       " 0.6239669421487604,\n",
       " 0.628099173553719,\n",
       " 0.6239669421487604,\n",
       " 0.628099173553719,\n",
       " 0.6157024793388429,\n",
       " 0.628099173553719]"
      ]
     },
     "execution_count": 19,
     "metadata": {},
     "output_type": "execute_result"
    }
   ],
   "source": [
    "#tune Knn as it has the lowest score\n",
    "train_scores=[]\n",
    "test_scores=[]\n",
    "knn = KNeighborsClassifier()\n",
    "neighbors = range(1,100)\n",
    "for i in neighbors:\n",
    "    knn.set_params(n_neighbors=i)\n",
    "    knn.fit(x_train,y_train)\n",
    "    train_scores.append(knn.score(x_train,y_train))\n",
    "    test_scores.append(knn.score(x_test,y_test))\n",
    "    \n",
    "train_scores"
   ]
  },
  {
   "cell_type": "code",
   "execution_count": 20,
   "id": "nonprofit-springer",
   "metadata": {},
   "outputs": [
    {
     "data": {
      "text/plain": [
       "[0.5901639344262295,\n",
       " 0.5737704918032787,\n",
       " 0.6885245901639344,\n",
       " 0.6557377049180327,\n",
       " 0.639344262295082,\n",
       " 0.6721311475409836,\n",
       " 0.6885245901639344,\n",
       " 0.6721311475409836,\n",
       " 0.6721311475409836,\n",
       " 0.6721311475409836,\n",
       " 0.6557377049180327,\n",
       " 0.6557377049180327,\n",
       " 0.6557377049180327,\n",
       " 0.6721311475409836,\n",
       " 0.6229508196721312,\n",
       " 0.6557377049180327,\n",
       " 0.639344262295082,\n",
       " 0.639344262295082,\n",
       " 0.639344262295082,\n",
       " 0.6557377049180327,\n",
       " 0.6557377049180327,\n",
       " 0.6885245901639344,\n",
       " 0.6721311475409836,\n",
       " 0.6721311475409836,\n",
       " 0.6721311475409836,\n",
       " 0.6721311475409836,\n",
       " 0.6721311475409836,\n",
       " 0.6885245901639344,\n",
       " 0.6885245901639344,\n",
       " 0.6885245901639344,\n",
       " 0.6721311475409836,\n",
       " 0.6557377049180327,\n",
       " 0.6557377049180327,\n",
       " 0.6885245901639344,\n",
       " 0.7049180327868853,\n",
       " 0.7049180327868853,\n",
       " 0.6721311475409836,\n",
       " 0.6885245901639344,\n",
       " 0.6885245901639344,\n",
       " 0.6885245901639344,\n",
       " 0.6721311475409836,\n",
       " 0.7213114754098361,\n",
       " 0.639344262295082,\n",
       " 0.6885245901639344,\n",
       " 0.639344262295082,\n",
       " 0.639344262295082,\n",
       " 0.6557377049180327,\n",
       " 0.6229508196721312,\n",
       " 0.6229508196721312,\n",
       " 0.639344262295082,\n",
       " 0.6229508196721312,\n",
       " 0.6557377049180327,\n",
       " 0.639344262295082,\n",
       " 0.639344262295082,\n",
       " 0.639344262295082,\n",
       " 0.639344262295082,\n",
       " 0.6229508196721312,\n",
       " 0.639344262295082,\n",
       " 0.6229508196721312,\n",
       " 0.6229508196721312,\n",
       " 0.6229508196721312,\n",
       " 0.6229508196721312,\n",
       " 0.6065573770491803,\n",
       " 0.639344262295082,\n",
       " 0.639344262295082,\n",
       " 0.639344262295082,\n",
       " 0.639344262295082,\n",
       " 0.6721311475409836,\n",
       " 0.639344262295082,\n",
       " 0.6557377049180327,\n",
       " 0.639344262295082,\n",
       " 0.6229508196721312,\n",
       " 0.639344262295082,\n",
       " 0.639344262295082,\n",
       " 0.639344262295082,\n",
       " 0.6229508196721312,\n",
       " 0.6557377049180327,\n",
       " 0.6721311475409836,\n",
       " 0.639344262295082,\n",
       " 0.6557377049180327,\n",
       " 0.6557377049180327,\n",
       " 0.6721311475409836,\n",
       " 0.6557377049180327,\n",
       " 0.6721311475409836,\n",
       " 0.6721311475409836,\n",
       " 0.6721311475409836,\n",
       " 0.6721311475409836,\n",
       " 0.6721311475409836,\n",
       " 0.6557377049180327,\n",
       " 0.6557377049180327,\n",
       " 0.6557377049180327,\n",
       " 0.6557377049180327,\n",
       " 0.6557377049180327,\n",
       " 0.6557377049180327,\n",
       " 0.6557377049180327,\n",
       " 0.6557377049180327,\n",
       " 0.6557377049180327,\n",
       " 0.6557377049180327,\n",
       " 0.6557377049180327]"
      ]
     },
     "execution_count": 20,
     "metadata": {},
     "output_type": "execute_result"
    }
   ],
   "source": [
    "test_scores"
   ]
  },
  {
   "cell_type": "code",
   "execution_count": 21,
   "id": "potential-reason",
   "metadata": {},
   "outputs": [
    {
     "name": "stdout",
     "output_type": "stream",
     "text": [
      "the max test score is: 72.13%\n"
     ]
    },
    {
     "data": {
      "image/png": "[encoded data removed]",
      "text/plain": [
       "<Figure size 432x288 with 1 Axes>"
      ]
     },
     "metadata": {
      "needs_background": "light"
     },
     "output_type": "display_data"
    }
   ],
   "source": [
    "plt.plot(neighbors,train_scores,label=\"train Score\")\n",
    "plt.plot(neighbors,test_scores,label=\"test score\")\n",
    "plt.legend();\n",
    "print(f\"the max test score is: {max(test_scores)*100:.2f}%\")"
   ]
  },
  {
   "cell_type": "markdown",
   "id": "answering-tuner",
   "metadata": {},
   "source": [
    "# there is an increase  but it is still less than the other models so we drop Knn"
   ]
  },
  {
   "cell_type": "code",
   "execution_count": 22,
   "id": "committed-singing",
   "metadata": {},
   "outputs": [],
   "source": [
    "#using RandomizedSearchCV\n",
    "Nu_grid ={ \"kernel\":['linear', 'poly', 'rbf', 'sigmoid'] ,\n",
    "          \"gamma\" : ['scale','auto','float']\n",
    "         }\n",
    "Rf_grid = {\"n_estimators\": np.arange(10,1000,50),\n",
    "          \"max_depth\":[None,3,5,10],\n",
    "          'min_samples_split':np.arange(2,20,2),\n",
    "          \"min_samples_leaf\":np.arange(1,20,2)}\n",
    "\n",
    "log_grid={'C':np.logspace(-4,4,20),\n",
    "         \"solver\":[\"liblinear\"]}"
   ]
  },
  {
   "cell_type": "code",
   "execution_count": 23,
   "id": "economic-suspect",
   "metadata": {},
   "outputs": [
    {
     "name": "stderr",
     "output_type": "stream",
     "text": [
      "/home/spectre/Desktop/heart-disease-project/env/lib/python3.8/site-packages/sklearn/model_selection/_search.py:285: UserWarning: The total space of parameters 12 is smaller than n_iter=20. Running 12 iterations. For exhaustive searches, use GridSearchCV.\n",
      "  warnings.warn(\n"
     ]
    },
    {
     "name": "stdout",
     "output_type": "stream",
     "text": [
      "Fitting 5 folds for each of 12 candidates, totalling 60 fits\n"
     ]
    },
    {
     "name": "stderr",
     "output_type": "stream",
     "text": [
      "/home/spectre/Desktop/heart-disease-project/env/lib/python3.8/site-packages/sklearn/model_selection/_validation.py:610: FitFailedWarning: Estimator fit failed. The score on this train-test partition for these parameters will be set to nan. Details: \n",
      "Traceback (most recent call last):\n",
      "  File \"/home/spectre/Desktop/heart-disease-project/env/lib/python3.8/site-packages/sklearn/model_selection/_validation.py\", line 593, in _fit_and_score\n",
      "    estimator.fit(X_train, y_train, **fit_params)\n",
      "  File \"/home/spectre/Desktop/heart-disease-project/env/lib/python3.8/site-packages/sklearn/svm/_base.py\", line 214, in fit\n",
      "    raise ValueError(\n",
      "ValueError: When 'gamma' is a string, it should be either 'scale' or 'auto'. Got 'float' instead.\n",
      "\n",
      "  warnings.warn(\"Estimator fit failed. The score on this train-test\"\n",
      "/home/spectre/Desktop/heart-disease-project/env/lib/python3.8/site-packages/sklearn/model_selection/_validation.py:610: FitFailedWarning: Estimator fit failed. The score on this train-test partition for these parameters will be set to nan. Details: \n",
      "Traceback (most recent call last):\n",
      "  File \"/home/spectre/Desktop/heart-disease-project/env/lib/python3.8/site-packages/sklearn/model_selection/_validation.py\", line 593, in _fit_and_score\n",
      "    estimator.fit(X_train, y_train, **fit_params)\n",
      "  File \"/home/spectre/Desktop/heart-disease-project/env/lib/python3.8/site-packages/sklearn/svm/_base.py\", line 214, in fit\n",
      "    raise ValueError(\n",
      "ValueError: When 'gamma' is a string, it should be either 'scale' or 'auto'. Got 'float' instead.\n",
      "\n",
      "  warnings.warn(\"Estimator fit failed. The score on this train-test\"\n",
      "/home/spectre/Desktop/heart-disease-project/env/lib/python3.8/site-packages/sklearn/model_selection/_validation.py:610: FitFailedWarning: Estimator fit failed. The score on this train-test partition for these parameters will be set to nan. Details: \n",
      "Traceback (most recent call last):\n",
      "  File \"/home/spectre/Desktop/heart-disease-project/env/lib/python3.8/site-packages/sklearn/model_selection/_validation.py\", line 593, in _fit_and_score\n",
      "    estimator.fit(X_train, y_train, **fit_params)\n",
      "  File \"/home/spectre/Desktop/heart-disease-project/env/lib/python3.8/site-packages/sklearn/svm/_base.py\", line 214, in fit\n",
      "    raise ValueError(\n",
      "ValueError: When 'gamma' is a string, it should be either 'scale' or 'auto'. Got 'float' instead.\n",
      "\n",
      "  warnings.warn(\"Estimator fit failed. The score on this train-test\"\n",
      "/home/spectre/Desktop/heart-disease-project/env/lib/python3.8/site-packages/sklearn/model_selection/_validation.py:610: FitFailedWarning: Estimator fit failed. The score on this train-test partition for these parameters will be set to nan. Details: \n",
      "Traceback (most recent call last):\n",
      "  File \"/home/spectre/Desktop/heart-disease-project/env/lib/python3.8/site-packages/sklearn/model_selection/_validation.py\", line 593, in _fit_and_score\n",
      "    estimator.fit(X_train, y_train, **fit_params)\n",
      "  File \"/home/spectre/Desktop/heart-disease-project/env/lib/python3.8/site-packages/sklearn/svm/_base.py\", line 214, in fit\n",
      "    raise ValueError(\n",
      "ValueError: When 'gamma' is a string, it should be either 'scale' or 'auto'. Got 'float' instead.\n",
      "\n",
      "  warnings.warn(\"Estimator fit failed. The score on this train-test\"\n",
      "/home/spectre/Desktop/heart-disease-project/env/lib/python3.8/site-packages/sklearn/model_selection/_validation.py:610: FitFailedWarning: Estimator fit failed. The score on this train-test partition for these parameters will be set to nan. Details: \n",
      "Traceback (most recent call last):\n",
      "  File \"/home/spectre/Desktop/heart-disease-project/env/lib/python3.8/site-packages/sklearn/model_selection/_validation.py\", line 593, in _fit_and_score\n",
      "    estimator.fit(X_train, y_train, **fit_params)\n",
      "  File \"/home/spectre/Desktop/heart-disease-project/env/lib/python3.8/site-packages/sklearn/svm/_base.py\", line 214, in fit\n",
      "    raise ValueError(\n",
      "ValueError: When 'gamma' is a string, it should be either 'scale' or 'auto'. Got 'float' instead.\n",
      "\n",
      "  warnings.warn(\"Estimator fit failed. The score on this train-test\"\n",
      "/home/spectre/Desktop/heart-disease-project/env/lib/python3.8/site-packages/sklearn/model_selection/_validation.py:610: FitFailedWarning: Estimator fit failed. The score on this train-test partition for these parameters will be set to nan. Details: \n",
      "Traceback (most recent call last):\n",
      "  File \"/home/spectre/Desktop/heart-disease-project/env/lib/python3.8/site-packages/sklearn/model_selection/_validation.py\", line 593, in _fit_and_score\n",
      "    estimator.fit(X_train, y_train, **fit_params)\n",
      "  File \"/home/spectre/Desktop/heart-disease-project/env/lib/python3.8/site-packages/sklearn/svm/_base.py\", line 214, in fit\n",
      "    raise ValueError(\n",
      "ValueError: When 'gamma' is a string, it should be either 'scale' or 'auto'. Got 'float' instead.\n",
      "\n",
      "  warnings.warn(\"Estimator fit failed. The score on this train-test\"\n",
      "/home/spectre/Desktop/heart-disease-project/env/lib/python3.8/site-packages/sklearn/model_selection/_validation.py:610: FitFailedWarning: Estimator fit failed. The score on this train-test partition for these parameters will be set to nan. Details: \n",
      "Traceback (most recent call last):\n",
      "  File \"/home/spectre/Desktop/heart-disease-project/env/lib/python3.8/site-packages/sklearn/model_selection/_validation.py\", line 593, in _fit_and_score\n",
      "    estimator.fit(X_train, y_train, **fit_params)\n",
      "  File \"/home/spectre/Desktop/heart-disease-project/env/lib/python3.8/site-packages/sklearn/svm/_base.py\", line 214, in fit\n",
      "    raise ValueError(\n",
      "ValueError: When 'gamma' is a string, it should be either 'scale' or 'auto'. Got 'float' instead.\n",
      "\n",
      "  warnings.warn(\"Estimator fit failed. The score on this train-test\"\n",
      "/home/spectre/Desktop/heart-disease-project/env/lib/python3.8/site-packages/sklearn/model_selection/_validation.py:610: FitFailedWarning: Estimator fit failed. The score on this train-test partition for these parameters will be set to nan. Details: \n",
      "Traceback (most recent call last):\n",
      "  File \"/home/spectre/Desktop/heart-disease-project/env/lib/python3.8/site-packages/sklearn/model_selection/_validation.py\", line 593, in _fit_and_score\n",
      "    estimator.fit(X_train, y_train, **fit_params)\n",
      "  File \"/home/spectre/Desktop/heart-disease-project/env/lib/python3.8/site-packages/sklearn/svm/_base.py\", line 214, in fit\n",
      "    raise ValueError(\n",
      "ValueError: When 'gamma' is a string, it should be either 'scale' or 'auto'. Got 'float' instead.\n",
      "\n",
      "  warnings.warn(\"Estimator fit failed. The score on this train-test\"\n",
      "/home/spectre/Desktop/heart-disease-project/env/lib/python3.8/site-packages/sklearn/model_selection/_validation.py:610: FitFailedWarning: Estimator fit failed. The score on this train-test partition for these parameters will be set to nan. Details: \n",
      "Traceback (most recent call last):\n",
      "  File \"/home/spectre/Desktop/heart-disease-project/env/lib/python3.8/site-packages/sklearn/model_selection/_validation.py\", line 593, in _fit_and_score\n",
      "    estimator.fit(X_train, y_train, **fit_params)\n",
      "  File \"/home/spectre/Desktop/heart-disease-project/env/lib/python3.8/site-packages/sklearn/svm/_base.py\", line 214, in fit\n",
      "    raise ValueError(\n",
      "ValueError: When 'gamma' is a string, it should be either 'scale' or 'auto'. Got 'float' instead.\n",
      "\n",
      "  warnings.warn(\"Estimator fit failed. The score on this train-test\"\n",
      "/home/spectre/Desktop/heart-disease-project/env/lib/python3.8/site-packages/sklearn/model_selection/_validation.py:610: FitFailedWarning: Estimator fit failed. The score on this train-test partition for these parameters will be set to nan. Details: \n",
      "Traceback (most recent call last):\n",
      "  File \"/home/spectre/Desktop/heart-disease-project/env/lib/python3.8/site-packages/sklearn/model_selection/_validation.py\", line 593, in _fit_and_score\n",
      "    estimator.fit(X_train, y_train, **fit_params)\n",
      "  File \"/home/spectre/Desktop/heart-disease-project/env/lib/python3.8/site-packages/sklearn/svm/_base.py\", line 214, in fit\n",
      "    raise ValueError(\n",
      "ValueError: When 'gamma' is a string, it should be either 'scale' or 'auto'. Got 'float' instead.\n",
      "\n",
      "  warnings.warn(\"Estimator fit failed. The score on this train-test\"\n",
      "/home/spectre/Desktop/heart-disease-project/env/lib/python3.8/site-packages/sklearn/model_selection/_validation.py:610: FitFailedWarning: Estimator fit failed. The score on this train-test partition for these parameters will be set to nan. Details: \n",
      "Traceback (most recent call last):\n",
      "  File \"/home/spectre/Desktop/heart-disease-project/env/lib/python3.8/site-packages/sklearn/model_selection/_validation.py\", line 593, in _fit_and_score\n",
      "    estimator.fit(X_train, y_train, **fit_params)\n",
      "  File \"/home/spectre/Desktop/heart-disease-project/env/lib/python3.8/site-packages/sklearn/svm/_base.py\", line 214, in fit\n",
      "    raise ValueError(\n",
      "ValueError: When 'gamma' is a string, it should be either 'scale' or 'auto'. Got 'float' instead.\n",
      "\n",
      "  warnings.warn(\"Estimator fit failed. The score on this train-test\"\n",
      "/home/spectre/Desktop/heart-disease-project/env/lib/python3.8/site-packages/sklearn/model_selection/_validation.py:610: FitFailedWarning: Estimator fit failed. The score on this train-test partition for these parameters will be set to nan. Details: \n",
      "Traceback (most recent call last):\n",
      "  File \"/home/spectre/Desktop/heart-disease-project/env/lib/python3.8/site-packages/sklearn/model_selection/_validation.py\", line 593, in _fit_and_score\n",
      "    estimator.fit(X_train, y_train, **fit_params)\n",
      "  File \"/home/spectre/Desktop/heart-disease-project/env/lib/python3.8/site-packages/sklearn/svm/_base.py\", line 214, in fit\n",
      "    raise ValueError(\n",
      "ValueError: When 'gamma' is a string, it should be either 'scale' or 'auto'. Got 'float' instead.\n",
      "\n",
      "  warnings.warn(\"Estimator fit failed. The score on this train-test\"\n",
      "/home/spectre/Desktop/heart-disease-project/env/lib/python3.8/site-packages/sklearn/model_selection/_validation.py:610: FitFailedWarning: Estimator fit failed. The score on this train-test partition for these parameters will be set to nan. Details: \n",
      "Traceback (most recent call last):\n",
      "  File \"/home/spectre/Desktop/heart-disease-project/env/lib/python3.8/site-packages/sklearn/model_selection/_validation.py\", line 593, in _fit_and_score\n",
      "    estimator.fit(X_train, y_train, **fit_params)\n",
      "  File \"/home/spectre/Desktop/heart-disease-project/env/lib/python3.8/site-packages/sklearn/svm/_base.py\", line 214, in fit\n",
      "    raise ValueError(\n",
      "ValueError: When 'gamma' is a string, it should be either 'scale' or 'auto'. Got 'float' instead.\n",
      "\n",
      "  warnings.warn(\"Estimator fit failed. The score on this train-test\"\n",
      "/home/spectre/Desktop/heart-disease-project/env/lib/python3.8/site-packages/sklearn/model_selection/_validation.py:610: FitFailedWarning: Estimator fit failed. The score on this train-test partition for these parameters will be set to nan. Details: \n",
      "Traceback (most recent call last):\n",
      "  File \"/home/spectre/Desktop/heart-disease-project/env/lib/python3.8/site-packages/sklearn/model_selection/_validation.py\", line 593, in _fit_and_score\n",
      "    estimator.fit(X_train, y_train, **fit_params)\n",
      "  File \"/home/spectre/Desktop/heart-disease-project/env/lib/python3.8/site-packages/sklearn/svm/_base.py\", line 214, in fit\n",
      "    raise ValueError(\n",
      "ValueError: When 'gamma' is a string, it should be either 'scale' or 'auto'. Got 'float' instead.\n",
      "\n",
      "  warnings.warn(\"Estimator fit failed. The score on this train-test\"\n",
      "/home/spectre/Desktop/heart-disease-project/env/lib/python3.8/site-packages/sklearn/model_selection/_validation.py:610: FitFailedWarning: Estimator fit failed. The score on this train-test partition for these parameters will be set to nan. Details: \n",
      "Traceback (most recent call last):\n",
      "  File \"/home/spectre/Desktop/heart-disease-project/env/lib/python3.8/site-packages/sklearn/model_selection/_validation.py\", line 593, in _fit_and_score\n",
      "    estimator.fit(X_train, y_train, **fit_params)\n",
      "  File \"/home/spectre/Desktop/heart-disease-project/env/lib/python3.8/site-packages/sklearn/svm/_base.py\", line 214, in fit\n",
      "    raise ValueError(\n",
      "ValueError: When 'gamma' is a string, it should be either 'scale' or 'auto'. Got 'float' instead.\n",
      "\n",
      "  warnings.warn(\"Estimator fit failed. The score on this train-test\"\n",
      "/home/spectre/Desktop/heart-disease-project/env/lib/python3.8/site-packages/sklearn/model_selection/_validation.py:610: FitFailedWarning: Estimator fit failed. The score on this train-test partition for these parameters will be set to nan. Details: \n",
      "Traceback (most recent call last):\n",
      "  File \"/home/spectre/Desktop/heart-disease-project/env/lib/python3.8/site-packages/sklearn/model_selection/_validation.py\", line 593, in _fit_and_score\n",
      "    estimator.fit(X_train, y_train, **fit_params)\n",
      "  File \"/home/spectre/Desktop/heart-disease-project/env/lib/python3.8/site-packages/sklearn/svm/_base.py\", line 214, in fit\n",
      "    raise ValueError(\n",
      "ValueError: When 'gamma' is a string, it should be either 'scale' or 'auto'. Got 'float' instead.\n",
      "\n",
      "  warnings.warn(\"Estimator fit failed. The score on this train-test\"\n",
      "/home/spectre/Desktop/heart-disease-project/env/lib/python3.8/site-packages/sklearn/model_selection/_validation.py:610: FitFailedWarning: Estimator fit failed. The score on this train-test partition for these parameters will be set to nan. Details: \n",
      "Traceback (most recent call last):\n",
      "  File \"/home/spectre/Desktop/heart-disease-project/env/lib/python3.8/site-packages/sklearn/model_selection/_validation.py\", line 593, in _fit_and_score\n",
      "    estimator.fit(X_train, y_train, **fit_params)\n",
      "  File \"/home/spectre/Desktop/heart-disease-project/env/lib/python3.8/site-packages/sklearn/svm/_base.py\", line 214, in fit\n",
      "    raise ValueError(\n",
      "ValueError: When 'gamma' is a string, it should be either 'scale' or 'auto'. Got 'float' instead.\n",
      "\n",
      "  warnings.warn(\"Estimator fit failed. The score on this train-test\"\n",
      "/home/spectre/Desktop/heart-disease-project/env/lib/python3.8/site-packages/sklearn/model_selection/_validation.py:610: FitFailedWarning: Estimator fit failed. The score on this train-test partition for these parameters will be set to nan. Details: \n",
      "Traceback (most recent call last):\n",
      "  File \"/home/spectre/Desktop/heart-disease-project/env/lib/python3.8/site-packages/sklearn/model_selection/_validation.py\", line 593, in _fit_and_score\n",
      "    estimator.fit(X_train, y_train, **fit_params)\n",
      "  File \"/home/spectre/Desktop/heart-disease-project/env/lib/python3.8/site-packages/sklearn/svm/_base.py\", line 214, in fit\n",
      "    raise ValueError(\n",
      "ValueError: When 'gamma' is a string, it should be either 'scale' or 'auto'. Got 'float' instead.\n",
      "\n",
      "  warnings.warn(\"Estimator fit failed. The score on this train-test\"\n",
      "/home/spectre/Desktop/heart-disease-project/env/lib/python3.8/site-packages/sklearn/model_selection/_validation.py:610: FitFailedWarning: Estimator fit failed. The score on this train-test partition for these parameters will be set to nan. Details: \n",
      "Traceback (most recent call last):\n",
      "  File \"/home/spectre/Desktop/heart-disease-project/env/lib/python3.8/site-packages/sklearn/model_selection/_validation.py\", line 593, in _fit_and_score\n",
      "    estimator.fit(X_train, y_train, **fit_params)\n",
      "  File \"/home/spectre/Desktop/heart-disease-project/env/lib/python3.8/site-packages/sklearn/svm/_base.py\", line 214, in fit\n",
      "    raise ValueError(\n",
      "ValueError: When 'gamma' is a string, it should be either 'scale' or 'auto'. Got 'float' instead.\n",
      "\n",
      "  warnings.warn(\"Estimator fit failed. The score on this train-test\"\n",
      "/home/spectre/Desktop/heart-disease-project/env/lib/python3.8/site-packages/sklearn/model_selection/_validation.py:610: FitFailedWarning: Estimator fit failed. The score on this train-test partition for these parameters will be set to nan. Details: \n",
      "Traceback (most recent call last):\n",
      "  File \"/home/spectre/Desktop/heart-disease-project/env/lib/python3.8/site-packages/sklearn/model_selection/_validation.py\", line 593, in _fit_and_score\n",
      "    estimator.fit(X_train, y_train, **fit_params)\n",
      "  File \"/home/spectre/Desktop/heart-disease-project/env/lib/python3.8/site-packages/sklearn/svm/_base.py\", line 214, in fit\n",
      "    raise ValueError(\n",
      "ValueError: When 'gamma' is a string, it should be either 'scale' or 'auto'. Got 'float' instead.\n",
      "\n",
      "  warnings.warn(\"Estimator fit failed. The score on this train-test\"\n",
      "/home/spectre/Desktop/heart-disease-project/env/lib/python3.8/site-packages/sklearn/model_selection/_search.py:918: UserWarning: One or more of the test scores are non-finite: [0.82704082 0.79787415 0.77321429 0.5085034  0.82704082 0.79795918\n",
      " 0.54957483 0.54540816        nan        nan        nan        nan]\n",
      "  warnings.warn(\n"
     ]
    },
    {
     "data": {
      "text/plain": [
       "RandomizedSearchCV(cv=5, estimator=NuSVC(), n_iter=20,\n",
       "                   param_distributions={'gamma': ['scale', 'auto', 'float'],\n",
       "                                        'kernel': ['linear', 'poly', 'rbf',\n",
       "                                                   'sigmoid']},\n",
       "                   verbose=True)"
      ]
     },
     "execution_count": 23,
     "metadata": {},
     "output_type": "execute_result"
    }
   ],
   "source": [
    "nu_log = RandomizedSearchCV(NuSVC(),\n",
    "                           param_distributions=Nu_grid,\n",
    "                           cv=5,\n",
    "                           n_iter=20,\n",
    "                           verbose=True)\n",
    "# rf_ran = RandomizedSearchCV(RandomForestClassifi\n",
    "nu_log.fit(x_train,y_train)"
   ]
  },
  {
   "cell_type": "code",
   "execution_count": 24,
   "id": "protective-facility",
   "metadata": {},
   "outputs": [
    {
     "data": {
      "text/plain": [
       "{'kernel': 'linear', 'gamma': 'scale'}"
      ]
     },
     "execution_count": 24,
     "metadata": {},
     "output_type": "execute_result"
    }
   ],
   "source": [
    "nu_log.best_params_"
   ]
  },
  {
   "cell_type": "code",
   "execution_count": 25,
   "id": "weird-package",
   "metadata": {},
   "outputs": [],
   "source": [
    "a=nu_log.score(x_test,y_test)"
   ]
  },
  {
   "cell_type": "code",
   "execution_count": 109,
   "id": "living-respect",
   "metadata": {},
   "outputs": [],
   "source": [
    "#it has actually performed worse lets check random forest and after that we will apply grid search cv"
   ]
  },
  {
   "cell_type": "code",
   "execution_count": 26,
   "id": "ideal-measure",
   "metadata": {},
   "outputs": [
    {
     "name": "stdout",
     "output_type": "stream",
     "text": [
      "Fitting 5 folds for each of 20 candidates, totalling 100 fits\n"
     ]
    },
    {
     "data": {
      "text/plain": [
       "RandomizedSearchCV(cv=5, estimator=RandomForestClassifier(), n_iter=20,\n",
       "                   param_distributions={'max_depth': [None, 3, 5, 10],\n",
       "                                        'min_samples_leaf': array([ 1,  3,  5,  7,  9, 11, 13, 15, 17, 19]),\n",
       "                                        'min_samples_split': array([ 2,  4,  6,  8, 10, 12, 14, 16, 18]),\n",
       "                                        'n_estimators': array([ 10,  60, 110, 160, 210, 260, 310, 360, 410, 460, 510, 560, 610,\n",
       "       660, 710, 760, 810, 860, 910, 960])},\n",
       "                   verbose=True)"
      ]
     },
     "execution_count": 26,
     "metadata": {},
     "output_type": "execute_result"
    }
   ],
   "source": [
    "Rf_log = RandomizedSearchCV(RandomForestClassifier(),\n",
    "                           param_distributions=Rf_grid,\n",
    "                           cv=5,\n",
    "                           n_iter=20,\n",
    "                           verbose=True)\n",
    "Rf_log.fit(x_train,y_train)"
   ]
  },
  {
   "cell_type": "code",
   "execution_count": 27,
   "id": "civic-kinase",
   "metadata": {},
   "outputs": [
    {
     "data": {
      "text/plain": [
       "{'n_estimators': 110,\n",
       " 'min_samples_split': 2,\n",
       " 'min_samples_leaf': 9,\n",
       " 'max_depth': 10}"
      ]
     },
     "execution_count": 27,
     "metadata": {},
     "output_type": "execute_result"
    }
   ],
   "source": [
    "Rf_log.best_params_\n"
   ]
  },
  {
   "cell_type": "code",
   "execution_count": 28,
   "id": "historic-uniform",
   "metadata": {},
   "outputs": [],
   "source": [
    "b=Rf_log.score(x_test,y_test)"
   ]
  },
  {
   "cell_type": "code",
   "execution_count": 29,
   "id": "passive-technician",
   "metadata": {},
   "outputs": [
    {
     "name": "stdout",
     "output_type": "stream",
     "text": [
      "Fitting 5 folds for each of 20 candidates, totalling 100 fits\n"
     ]
    },
    {
     "data": {
      "text/plain": [
       "RandomizedSearchCV(cv=5, estimator=LogisticRegression(), n_iter=20,\n",
       "                   param_distributions={'C': array([1.00000000e-04, 2.63665090e-04, 6.95192796e-04, 1.83298071e-03,\n",
       "       4.83293024e-03, 1.27427499e-02, 3.35981829e-02, 8.85866790e-02,\n",
       "       2.33572147e-01, 6.15848211e-01, 1.62377674e+00, 4.28133240e+00,\n",
       "       1.12883789e+01, 2.97635144e+01, 7.84759970e+01, 2.06913808e+02,\n",
       "       5.45559478e+02, 1.43844989e+03, 3.79269019e+03, 1.00000000e+04]),\n",
       "                                        'solver': ['liblinear']},\n",
       "                   verbose=True)"
      ]
     },
     "execution_count": 29,
     "metadata": {},
     "output_type": "execute_result"
    }
   ],
   "source": [
    "log_grid_nuv = RandomizedSearchCV(LogisticRegression(),\n",
    "                           param_distributions=log_grid,\n",
    "                           cv=5,\n",
    "                           n_iter=20,\n",
    "                           verbose=True)\n",
    "log_grid_nuv.fit(x_train,y_train)"
   ]
  },
  {
   "cell_type": "code",
   "execution_count": 30,
   "id": "resistant-mention",
   "metadata": {},
   "outputs": [],
   "source": [
    "c=log_grid_nuv.score(x_test,y_test)"
   ]
  },
  {
   "cell_type": "code",
   "execution_count": 31,
   "id": "original-fabric",
   "metadata": {},
   "outputs": [],
   "source": [
    "#post Randomised Search Cv we have\n",
    "tuned_models ={'NuSVC':a,\n",
    "              \"RandomForestClassifier\":b,\n",
    "              \"LogisticRegression\":c} "
   ]
  },
  {
   "cell_type": "code",
   "execution_count": 32,
   "id": "contemporary-minneapolis",
   "metadata": {},
   "outputs": [
    {
     "data": {
      "image/png": "[encoded data removed]",
      "text/plain": [
       "<Figure size 1080x1080 with 1 Axes>"
      ]
     },
     "metadata": {
      "needs_background": "light"
     },
     "output_type": "display_data"
    }
   ],
   "source": [
    "display_tuned_models = pd.DataFrame(tuned_models,index=[\"accuracy\"])\n",
    "display_tuned_models.T.plot.bar(figsize=(15,15));"
   ]
  },
  {
   "cell_type": "markdown",
   "id": "champion-operation",
   "metadata": {},
   "source": [
    "# Grid Search CV"
   ]
  },
  {
   "cell_type": "code",
   "execution_count": 33,
   "id": "medical-beast",
   "metadata": {},
   "outputs": [],
   "source": [
    "NUSVC_grid ={ \"kernel\":['linear', 'poly', 'rbf', 'sigmoid'] ,\n",
    "          \"gamma\" : ['scale','auto','float']\n",
    "         }\n",
    "Randf_grid = {\"n_estimators\": np.arange(10,100,50),\n",
    "          \"max_depth\":[5,10],\n",
    "          'min_samples_split':np.arange(2,20,5),\n",
    "          \"min_samples_leaf\":np.arange(1,20,5)}\n",
    "\n",
    "logreg_grid={'C':np.logspace(-4,4,20),\n",
    "         \"solver\":[\"liblinear\"]}"
   ]
  },
  {
   "cell_type": "code",
   "execution_count": 34,
   "id": "unauthorized-postage",
   "metadata": {},
   "outputs": [
    {
     "name": "stdout",
     "output_type": "stream",
     "text": [
      "Fitting 5 folds for each of 12 candidates, totalling 60 fits\n"
     ]
    },
    {
     "name": "stderr",
     "output_type": "stream",
     "text": [
      "/home/spectre/Desktop/heart-disease-project/env/lib/python3.8/site-packages/sklearn/model_selection/_validation.py:610: FitFailedWarning: Estimator fit failed. The score on this train-test partition for these parameters will be set to nan. Details: \n",
      "Traceback (most recent call last):\n",
      "  File \"/home/spectre/Desktop/heart-disease-project/env/lib/python3.8/site-packages/sklearn/model_selection/_validation.py\", line 593, in _fit_and_score\n",
      "    estimator.fit(X_train, y_train, **fit_params)\n",
      "  File \"/home/spectre/Desktop/heart-disease-project/env/lib/python3.8/site-packages/sklearn/svm/_base.py\", line 214, in fit\n",
      "    raise ValueError(\n",
      "ValueError: When 'gamma' is a string, it should be either 'scale' or 'auto'. Got 'float' instead.\n",
      "\n",
      "  warnings.warn(\"Estimator fit failed. The score on this train-test\"\n",
      "/home/spectre/Desktop/heart-disease-project/env/lib/python3.8/site-packages/sklearn/model_selection/_validation.py:610: FitFailedWarning: Estimator fit failed. The score on this train-test partition for these parameters will be set to nan. Details: \n",
      "Traceback (most recent call last):\n",
      "  File \"/home/spectre/Desktop/heart-disease-project/env/lib/python3.8/site-packages/sklearn/model_selection/_validation.py\", line 593, in _fit_and_score\n",
      "    estimator.fit(X_train, y_train, **fit_params)\n",
      "  File \"/home/spectre/Desktop/heart-disease-project/env/lib/python3.8/site-packages/sklearn/svm/_base.py\", line 214, in fit\n",
      "    raise ValueError(\n",
      "ValueError: When 'gamma' is a string, it should be either 'scale' or 'auto'. Got 'float' instead.\n",
      "\n",
      "  warnings.warn(\"Estimator fit failed. The score on this train-test\"\n",
      "/home/spectre/Desktop/heart-disease-project/env/lib/python3.8/site-packages/sklearn/model_selection/_validation.py:610: FitFailedWarning: Estimator fit failed. The score on this train-test partition for these parameters will be set to nan. Details: \n",
      "Traceback (most recent call last):\n",
      "  File \"/home/spectre/Desktop/heart-disease-project/env/lib/python3.8/site-packages/sklearn/model_selection/_validation.py\", line 593, in _fit_and_score\n",
      "    estimator.fit(X_train, y_train, **fit_params)\n",
      "  File \"/home/spectre/Desktop/heart-disease-project/env/lib/python3.8/site-packages/sklearn/svm/_base.py\", line 214, in fit\n",
      "    raise ValueError(\n",
      "ValueError: When 'gamma' is a string, it should be either 'scale' or 'auto'. Got 'float' instead.\n",
      "\n",
      "  warnings.warn(\"Estimator fit failed. The score on this train-test\"\n",
      "/home/spectre/Desktop/heart-disease-project/env/lib/python3.8/site-packages/sklearn/model_selection/_validation.py:610: FitFailedWarning: Estimator fit failed. The score on this train-test partition for these parameters will be set to nan. Details: \n",
      "Traceback (most recent call last):\n",
      "  File \"/home/spectre/Desktop/heart-disease-project/env/lib/python3.8/site-packages/sklearn/model_selection/_validation.py\", line 593, in _fit_and_score\n",
      "    estimator.fit(X_train, y_train, **fit_params)\n",
      "  File \"/home/spectre/Desktop/heart-disease-project/env/lib/python3.8/site-packages/sklearn/svm/_base.py\", line 214, in fit\n",
      "    raise ValueError(\n",
      "ValueError: When 'gamma' is a string, it should be either 'scale' or 'auto'. Got 'float' instead.\n",
      "\n",
      "  warnings.warn(\"Estimator fit failed. The score on this train-test\"\n",
      "/home/spectre/Desktop/heart-disease-project/env/lib/python3.8/site-packages/sklearn/model_selection/_validation.py:610: FitFailedWarning: Estimator fit failed. The score on this train-test partition for these parameters will be set to nan. Details: \n",
      "Traceback (most recent call last):\n",
      "  File \"/home/spectre/Desktop/heart-disease-project/env/lib/python3.8/site-packages/sklearn/model_selection/_validation.py\", line 593, in _fit_and_score\n",
      "    estimator.fit(X_train, y_train, **fit_params)\n",
      "  File \"/home/spectre/Desktop/heart-disease-project/env/lib/python3.8/site-packages/sklearn/svm/_base.py\", line 214, in fit\n",
      "    raise ValueError(\n",
      "ValueError: When 'gamma' is a string, it should be either 'scale' or 'auto'. Got 'float' instead.\n",
      "\n",
      "  warnings.warn(\"Estimator fit failed. The score on this train-test\"\n",
      "/home/spectre/Desktop/heart-disease-project/env/lib/python3.8/site-packages/sklearn/model_selection/_validation.py:610: FitFailedWarning: Estimator fit failed. The score on this train-test partition for these parameters will be set to nan. Details: \n",
      "Traceback (most recent call last):\n",
      "  File \"/home/spectre/Desktop/heart-disease-project/env/lib/python3.8/site-packages/sklearn/model_selection/_validation.py\", line 593, in _fit_and_score\n",
      "    estimator.fit(X_train, y_train, **fit_params)\n",
      "  File \"/home/spectre/Desktop/heart-disease-project/env/lib/python3.8/site-packages/sklearn/svm/_base.py\", line 214, in fit\n",
      "    raise ValueError(\n",
      "ValueError: When 'gamma' is a string, it should be either 'scale' or 'auto'. Got 'float' instead.\n",
      "\n",
      "  warnings.warn(\"Estimator fit failed. The score on this train-test\"\n",
      "/home/spectre/Desktop/heart-disease-project/env/lib/python3.8/site-packages/sklearn/model_selection/_validation.py:610: FitFailedWarning: Estimator fit failed. The score on this train-test partition for these parameters will be set to nan. Details: \n",
      "Traceback (most recent call last):\n",
      "  File \"/home/spectre/Desktop/heart-disease-project/env/lib/python3.8/site-packages/sklearn/model_selection/_validation.py\", line 593, in _fit_and_score\n",
      "    estimator.fit(X_train, y_train, **fit_params)\n",
      "  File \"/home/spectre/Desktop/heart-disease-project/env/lib/python3.8/site-packages/sklearn/svm/_base.py\", line 214, in fit\n",
      "    raise ValueError(\n",
      "ValueError: When 'gamma' is a string, it should be either 'scale' or 'auto'. Got 'float' instead.\n",
      "\n",
      "  warnings.warn(\"Estimator fit failed. The score on this train-test\"\n",
      "/home/spectre/Desktop/heart-disease-project/env/lib/python3.8/site-packages/sklearn/model_selection/_validation.py:610: FitFailedWarning: Estimator fit failed. The score on this train-test partition for these parameters will be set to nan. Details: \n",
      "Traceback (most recent call last):\n",
      "  File \"/home/spectre/Desktop/heart-disease-project/env/lib/python3.8/site-packages/sklearn/model_selection/_validation.py\", line 593, in _fit_and_score\n",
      "    estimator.fit(X_train, y_train, **fit_params)\n",
      "  File \"/home/spectre/Desktop/heart-disease-project/env/lib/python3.8/site-packages/sklearn/svm/_base.py\", line 214, in fit\n",
      "    raise ValueError(\n",
      "ValueError: When 'gamma' is a string, it should be either 'scale' or 'auto'. Got 'float' instead.\n",
      "\n",
      "  warnings.warn(\"Estimator fit failed. The score on this train-test\"\n",
      "/home/spectre/Desktop/heart-disease-project/env/lib/python3.8/site-packages/sklearn/model_selection/_validation.py:610: FitFailedWarning: Estimator fit failed. The score on this train-test partition for these parameters will be set to nan. Details: \n",
      "Traceback (most recent call last):\n",
      "  File \"/home/spectre/Desktop/heart-disease-project/env/lib/python3.8/site-packages/sklearn/model_selection/_validation.py\", line 593, in _fit_and_score\n",
      "    estimator.fit(X_train, y_train, **fit_params)\n",
      "  File \"/home/spectre/Desktop/heart-disease-project/env/lib/python3.8/site-packages/sklearn/svm/_base.py\", line 214, in fit\n",
      "    raise ValueError(\n",
      "ValueError: When 'gamma' is a string, it should be either 'scale' or 'auto'. Got 'float' instead.\n",
      "\n",
      "  warnings.warn(\"Estimator fit failed. The score on this train-test\"\n",
      "/home/spectre/Desktop/heart-disease-project/env/lib/python3.8/site-packages/sklearn/model_selection/_validation.py:610: FitFailedWarning: Estimator fit failed. The score on this train-test partition for these parameters will be set to nan. Details: \n",
      "Traceback (most recent call last):\n",
      "  File \"/home/spectre/Desktop/heart-disease-project/env/lib/python3.8/site-packages/sklearn/model_selection/_validation.py\", line 593, in _fit_and_score\n",
      "    estimator.fit(X_train, y_train, **fit_params)\n",
      "  File \"/home/spectre/Desktop/heart-disease-project/env/lib/python3.8/site-packages/sklearn/svm/_base.py\", line 214, in fit\n",
      "    raise ValueError(\n",
      "ValueError: When 'gamma' is a string, it should be either 'scale' or 'auto'. Got 'float' instead.\n",
      "\n",
      "  warnings.warn(\"Estimator fit failed. The score on this train-test\"\n",
      "/home/spectre/Desktop/heart-disease-project/env/lib/python3.8/site-packages/sklearn/model_selection/_validation.py:610: FitFailedWarning: Estimator fit failed. The score on this train-test partition for these parameters will be set to nan. Details: \n",
      "Traceback (most recent call last):\n",
      "  File \"/home/spectre/Desktop/heart-disease-project/env/lib/python3.8/site-packages/sklearn/model_selection/_validation.py\", line 593, in _fit_and_score\n",
      "    estimator.fit(X_train, y_train, **fit_params)\n",
      "  File \"/home/spectre/Desktop/heart-disease-project/env/lib/python3.8/site-packages/sklearn/svm/_base.py\", line 214, in fit\n",
      "    raise ValueError(\n",
      "ValueError: When 'gamma' is a string, it should be either 'scale' or 'auto'. Got 'float' instead.\n",
      "\n",
      "  warnings.warn(\"Estimator fit failed. The score on this train-test\"\n",
      "/home/spectre/Desktop/heart-disease-project/env/lib/python3.8/site-packages/sklearn/model_selection/_validation.py:610: FitFailedWarning: Estimator fit failed. The score on this train-test partition for these parameters will be set to nan. Details: \n",
      "Traceback (most recent call last):\n",
      "  File \"/home/spectre/Desktop/heart-disease-project/env/lib/python3.8/site-packages/sklearn/model_selection/_validation.py\", line 593, in _fit_and_score\n",
      "    estimator.fit(X_train, y_train, **fit_params)\n",
      "  File \"/home/spectre/Desktop/heart-disease-project/env/lib/python3.8/site-packages/sklearn/svm/_base.py\", line 214, in fit\n",
      "    raise ValueError(\n",
      "ValueError: When 'gamma' is a string, it should be either 'scale' or 'auto'. Got 'float' instead.\n",
      "\n",
      "  warnings.warn(\"Estimator fit failed. The score on this train-test\"\n",
      "/home/spectre/Desktop/heart-disease-project/env/lib/python3.8/site-packages/sklearn/model_selection/_validation.py:610: FitFailedWarning: Estimator fit failed. The score on this train-test partition for these parameters will be set to nan. Details: \n",
      "Traceback (most recent call last):\n",
      "  File \"/home/spectre/Desktop/heart-disease-project/env/lib/python3.8/site-packages/sklearn/model_selection/_validation.py\", line 593, in _fit_and_score\n",
      "    estimator.fit(X_train, y_train, **fit_params)\n",
      "  File \"/home/spectre/Desktop/heart-disease-project/env/lib/python3.8/site-packages/sklearn/svm/_base.py\", line 214, in fit\n",
      "    raise ValueError(\n",
      "ValueError: When 'gamma' is a string, it should be either 'scale' or 'auto'. Got 'float' instead.\n",
      "\n",
      "  warnings.warn(\"Estimator fit failed. The score on this train-test\"\n",
      "/home/spectre/Desktop/heart-disease-project/env/lib/python3.8/site-packages/sklearn/model_selection/_validation.py:610: FitFailedWarning: Estimator fit failed. The score on this train-test partition for these parameters will be set to nan. Details: \n",
      "Traceback (most recent call last):\n",
      "  File \"/home/spectre/Desktop/heart-disease-project/env/lib/python3.8/site-packages/sklearn/model_selection/_validation.py\", line 593, in _fit_and_score\n",
      "    estimator.fit(X_train, y_train, **fit_params)\n",
      "  File \"/home/spectre/Desktop/heart-disease-project/env/lib/python3.8/site-packages/sklearn/svm/_base.py\", line 214, in fit\n",
      "    raise ValueError(\n",
      "ValueError: When 'gamma' is a string, it should be either 'scale' or 'auto'. Got 'float' instead.\n",
      "\n",
      "  warnings.warn(\"Estimator fit failed. The score on this train-test\"\n",
      "/home/spectre/Desktop/heart-disease-project/env/lib/python3.8/site-packages/sklearn/model_selection/_validation.py:610: FitFailedWarning: Estimator fit failed. The score on this train-test partition for these parameters will be set to nan. Details: \n",
      "Traceback (most recent call last):\n",
      "  File \"/home/spectre/Desktop/heart-disease-project/env/lib/python3.8/site-packages/sklearn/model_selection/_validation.py\", line 593, in _fit_and_score\n",
      "    estimator.fit(X_train, y_train, **fit_params)\n",
      "  File \"/home/spectre/Desktop/heart-disease-project/env/lib/python3.8/site-packages/sklearn/svm/_base.py\", line 214, in fit\n",
      "    raise ValueError(\n",
      "ValueError: When 'gamma' is a string, it should be either 'scale' or 'auto'. Got 'float' instead.\n",
      "\n",
      "  warnings.warn(\"Estimator fit failed. The score on this train-test\"\n",
      "/home/spectre/Desktop/heart-disease-project/env/lib/python3.8/site-packages/sklearn/model_selection/_validation.py:610: FitFailedWarning: Estimator fit failed. The score on this train-test partition for these parameters will be set to nan. Details: \n",
      "Traceback (most recent call last):\n",
      "  File \"/home/spectre/Desktop/heart-disease-project/env/lib/python3.8/site-packages/sklearn/model_selection/_validation.py\", line 593, in _fit_and_score\n",
      "    estimator.fit(X_train, y_train, **fit_params)\n",
      "  File \"/home/spectre/Desktop/heart-disease-project/env/lib/python3.8/site-packages/sklearn/svm/_base.py\", line 214, in fit\n",
      "    raise ValueError(\n",
      "ValueError: When 'gamma' is a string, it should be either 'scale' or 'auto'. Got 'float' instead.\n",
      "\n",
      "  warnings.warn(\"Estimator fit failed. The score on this train-test\"\n",
      "/home/spectre/Desktop/heart-disease-project/env/lib/python3.8/site-packages/sklearn/model_selection/_validation.py:610: FitFailedWarning: Estimator fit failed. The score on this train-test partition for these parameters will be set to nan. Details: \n",
      "Traceback (most recent call last):\n",
      "  File \"/home/spectre/Desktop/heart-disease-project/env/lib/python3.8/site-packages/sklearn/model_selection/_validation.py\", line 593, in _fit_and_score\n",
      "    estimator.fit(X_train, y_train, **fit_params)\n",
      "  File \"/home/spectre/Desktop/heart-disease-project/env/lib/python3.8/site-packages/sklearn/svm/_base.py\", line 214, in fit\n",
      "    raise ValueError(\n",
      "ValueError: When 'gamma' is a string, it should be either 'scale' or 'auto'. Got 'float' instead.\n",
      "\n",
      "  warnings.warn(\"Estimator fit failed. The score on this train-test\"\n",
      "/home/spectre/Desktop/heart-disease-project/env/lib/python3.8/site-packages/sklearn/model_selection/_validation.py:610: FitFailedWarning: Estimator fit failed. The score on this train-test partition for these parameters will be set to nan. Details: \n",
      "Traceback (most recent call last):\n",
      "  File \"/home/spectre/Desktop/heart-disease-project/env/lib/python3.8/site-packages/sklearn/model_selection/_validation.py\", line 593, in _fit_and_score\n",
      "    estimator.fit(X_train, y_train, **fit_params)\n",
      "  File \"/home/spectre/Desktop/heart-disease-project/env/lib/python3.8/site-packages/sklearn/svm/_base.py\", line 214, in fit\n",
      "    raise ValueError(\n",
      "ValueError: When 'gamma' is a string, it should be either 'scale' or 'auto'. Got 'float' instead.\n",
      "\n",
      "  warnings.warn(\"Estimator fit failed. The score on this train-test\"\n",
      "/home/spectre/Desktop/heart-disease-project/env/lib/python3.8/site-packages/sklearn/model_selection/_validation.py:610: FitFailedWarning: Estimator fit failed. The score on this train-test partition for these parameters will be set to nan. Details: \n",
      "Traceback (most recent call last):\n",
      "  File \"/home/spectre/Desktop/heart-disease-project/env/lib/python3.8/site-packages/sklearn/model_selection/_validation.py\", line 593, in _fit_and_score\n",
      "    estimator.fit(X_train, y_train, **fit_params)\n",
      "  File \"/home/spectre/Desktop/heart-disease-project/env/lib/python3.8/site-packages/sklearn/svm/_base.py\", line 214, in fit\n",
      "    raise ValueError(\n",
      "ValueError: When 'gamma' is a string, it should be either 'scale' or 'auto'. Got 'float' instead.\n",
      "\n",
      "  warnings.warn(\"Estimator fit failed. The score on this train-test\"\n",
      "/home/spectre/Desktop/heart-disease-project/env/lib/python3.8/site-packages/sklearn/model_selection/_validation.py:610: FitFailedWarning: Estimator fit failed. The score on this train-test partition for these parameters will be set to nan. Details: \n",
      "Traceback (most recent call last):\n",
      "  File \"/home/spectre/Desktop/heart-disease-project/env/lib/python3.8/site-packages/sklearn/model_selection/_validation.py\", line 593, in _fit_and_score\n",
      "    estimator.fit(X_train, y_train, **fit_params)\n",
      "  File \"/home/spectre/Desktop/heart-disease-project/env/lib/python3.8/site-packages/sklearn/svm/_base.py\", line 214, in fit\n",
      "    raise ValueError(\n",
      "ValueError: When 'gamma' is a string, it should be either 'scale' or 'auto'. Got 'float' instead.\n",
      "\n",
      "  warnings.warn(\"Estimator fit failed. The score on this train-test\"\n",
      "/home/spectre/Desktop/heart-disease-project/env/lib/python3.8/site-packages/sklearn/model_selection/_search.py:918: UserWarning: One or more of the test scores are non-finite: [0.82704082 0.79787415 0.77321429 0.5085034  0.82704082 0.79795918\n",
      " 0.54957483 0.54540816        nan        nan        nan        nan]\n",
      "  warnings.warn(\n"
     ]
    },
    {
     "data": {
      "text/plain": [
       "GridSearchCV(cv=5, estimator=NuSVC(),\n",
       "             param_grid={'gamma': ['scale', 'auto', 'float'],\n",
       "                         'kernel': ['linear', 'poly', 'rbf', 'sigmoid']},\n",
       "             verbose=True)"
      ]
     },
     "execution_count": 34,
     "metadata": {},
     "output_type": "execute_result"
    }
   ],
   "source": [
    "NUSVC_grid_search = GridSearchCV(NuSVC(),\n",
    "                                param_grid=NUSVC_grid,\n",
    "                                cv=5,\n",
    "                                verbose=True)\n",
    "NUSVC_grid_search.fit(x_train,y_train)"
   ]
  },
  {
   "cell_type": "code",
   "execution_count": 35,
   "id": "transparent-isaac",
   "metadata": {},
   "outputs": [],
   "source": [
    "d=NUSVC_grid_search.score(x_test,y_test)"
   ]
  },
  {
   "cell_type": "code",
   "execution_count": 36,
   "id": "collected-calendar",
   "metadata": {},
   "outputs": [
    {
     "name": "stdout",
     "output_type": "stream",
     "text": [
      "Fitting 5 folds for each of 64 candidates, totalling 320 fits\n"
     ]
    },
    {
     "data": {
      "text/plain": [
       "GridSearchCV(cv=5, estimator=RandomForestClassifier(),\n",
       "             param_grid={'max_depth': [5, 10],\n",
       "                         'min_samples_leaf': array([ 1,  6, 11, 16]),\n",
       "                         'min_samples_split': array([ 2,  7, 12, 17]),\n",
       "                         'n_estimators': array([10, 60])},\n",
       "             verbose=True)"
      ]
     },
     "execution_count": 36,
     "metadata": {},
     "output_type": "execute_result"
    }
   ],
   "source": [
    "#the estimators had to be reduced which would have caused an effect on the output \n",
    "Randf_grid_search = GridSearchCV(RandomForestClassifier(),\n",
    "                                param_grid=Randf_grid,\n",
    "                                cv=5,\n",
    "                                verbose=True)\n",
    "Randf_grid_search.fit(x_train,y_train)"
   ]
  },
  {
   "cell_type": "code",
   "execution_count": 37,
   "id": "linear-firmware",
   "metadata": {},
   "outputs": [],
   "source": [
    "e=Randf_grid_search.score(x_test,y_test)"
   ]
  },
  {
   "cell_type": "code",
   "execution_count": 38,
   "id": "designing-phenomenon",
   "metadata": {},
   "outputs": [
    {
     "name": "stdout",
     "output_type": "stream",
     "text": [
      "Fitting 5 folds for each of 20 candidates, totalling 100 fits\n"
     ]
    },
    {
     "data": {
      "text/plain": [
       "GridSearchCV(cv=5, estimator=LogisticRegression(),\n",
       "             param_grid={'C': array([1.00000000e-04, 2.63665090e-04, 6.95192796e-04, 1.83298071e-03,\n",
       "       4.83293024e-03, 1.27427499e-02, 3.35981829e-02, 8.85866790e-02,\n",
       "       2.33572147e-01, 6.15848211e-01, 1.62377674e+00, 4.28133240e+00,\n",
       "       1.12883789e+01, 2.97635144e+01, 7.84759970e+01, 2.06913808e+02,\n",
       "       5.45559478e+02, 1.43844989e+03, 3.79269019e+03, 1.00000000e+04]),\n",
       "                         'solver': ['liblinear']},\n",
       "             verbose=True)"
      ]
     },
     "execution_count": 38,
     "metadata": {},
     "output_type": "execute_result"
    }
   ],
   "source": [
    "logreg_grid_search = GridSearchCV(LogisticRegression(),\n",
    "                                 param_grid=logreg_grid,\n",
    "                                 cv=5,\n",
    "                                 verbose=True)\n",
    "logreg_grid_search.fit(x_train,y_train)"
   ]
  },
  {
   "cell_type": "code",
   "execution_count": 39,
   "id": "limited-powell",
   "metadata": {},
   "outputs": [],
   "source": [
    "f=logreg_grid_search.score(x_test,y_test)"
   ]
  },
  {
   "cell_type": "code",
   "execution_count": 40,
   "id": "auburn-albania",
   "metadata": {},
   "outputs": [
    {
     "data": {
      "image/png": "[encoded data removed]",
      "text/plain": [
       "<Figure size 720x720 with 1 Axes>"
      ]
     },
     "metadata": {
      "needs_background": "light"
     },
     "output_type": "display_data"
    }
   ],
   "source": [
    "grid_tune = {'NuSVC':d,\n",
    "            \"Randomforest\":e,\n",
    "            \"Logistic\":f}\n",
    "grid_tune_data = pd.DataFrame(grid_tune,index=[\"accuracy\"])\n",
    "grid_tune_data.T.plot.bar(figsize=(10,10));"
   ]
  },
  {
   "cell_type": "code",
   "execution_count": 41,
   "id": "aggressive-america",
   "metadata": {},
   "outputs": [],
   "source": [
    "y_preds_1 = NUSVC_grid_search.predict(x_test)\n",
    "y_preds_2 = Randf_grid_search.predict(x_test)\n",
    "y_preds_3 = logreg_grid_search.predict(x_test)"
   ]
  },
  {
   "cell_type": "code",
   "execution_count": 42,
   "id": "presidential-piano",
   "metadata": {},
   "outputs": [],
   "source": [
    "from sklearn.metrics import plot_roc_curve,plot_confusion_matrix,roc_curve,roc_auc_score"
   ]
  },
  {
   "cell_type": "code",
   "execution_count": 43,
   "id": "effective-timer",
   "metadata": {},
   "outputs": [
    {
     "data": {
      "image/png": "[encoded data removed]",
      "text/plain": [
       "<Figure size 432x288 with 1 Axes>"
      ]
     },
     "metadata": {
      "needs_background": "light"
     },
     "output_type": "display_data"
    }
   ],
   "source": [
    "#for NuSVC\n",
    "plot_roc_curve(NUSVC_grid_search,x_test,y_test);"
   ]
  },
  {
   "cell_type": "code",
   "execution_count": 44,
   "id": "medium-circular",
   "metadata": {},
   "outputs": [
    {
     "data": {
      "image/png": "[encoded data removed]",
      "text/plain": [
       "<Figure size 432x288 with 1 Axes>"
      ]
     },
     "metadata": {
      "needs_background": "light"
     },
     "output_type": "display_data"
    }
   ],
   "source": [
    "#for RandomForestClassifier\n",
    "plot_roc_curve(Randf_grid_search,x_test,y_test);"
   ]
  },
  {
   "cell_type": "code",
   "execution_count": 45,
   "id": "difficult-bolivia",
   "metadata": {},
   "outputs": [
    {
     "data": {
      "image/png": "[encoded data removed]",
      "text/plain": [
       "<Figure size 432x288 with 1 Axes>"
      ]
     },
     "metadata": {
      "needs_background": "light"
     },
     "output_type": "display_data"
    }
   ],
   "source": [
    "#for LogisticRegression\n",
    "plot_roc_curve(logreg_grid_search,x_test,y_test);"
   ]
  },
  {
   "cell_type": "markdown",
   "id": "practical-fifty",
   "metadata": {},
   "source": [
    "# Confusion Matrix"
   ]
  },
  {
   "cell_type": "code",
   "execution_count": 56,
   "id": "accepted-formula",
   "metadata": {},
   "outputs": [
    {
     "data": {
      "image/png": "[encoded data removed]",
      "text/plain": [
       "<Figure size 216x216 with 1 Axes>"
      ]
     },
     "metadata": {},
     "output_type": "display_data"
    }
   ],
   "source": [
    "\n",
    "sns.set(font_scale=1.5)\n",
    "def confus_matrix(y_test,y_preds):\n",
    "    fig,ax = plt.subplots(figsize=(3,3))\n",
    "    ax = sns.heatmap(confusion_matrix(y_test,y_preds),\n",
    "                    annot=True,\n",
    "                    cbar=False)\n",
    "    plt.xlabel(\"True label\")\n",
    "    plt.ylabel(\"Predicted label\")\n",
    "\n",
    "confus_matrix(y_test,y_preds_1)"
   ]
  },
  {
   "cell_type": "code",
   "execution_count": 57,
   "id": "fewer-safety",
   "metadata": {},
   "outputs": [
    {
     "data": {
      "image/png": "[encoded data removed]",
      "text/plain": [
       "<Figure size 216x216 with 1 Axes>"
      ]
     },
     "metadata": {},
     "output_type": "display_data"
    }
   ],
   "source": [
    "#RandomForest \n",
    "confus_matrix(y_test,y_preds_2)"
   ]
  },
  {
   "cell_type": "code",
   "execution_count": 59,
   "id": "generous-nylon",
   "metadata": {},
   "outputs": [
    {
     "data": {
      "image/png": "[encoded data removed]",
      "text/plain": [
       "<Figure size 216x216 with 1 Axes>"
      ]
     },
     "metadata": {},
     "output_type": "display_data"
    }
   ],
   "source": [
    "#logistic Regression\n",
    "confus_matrix(y_test,y_preds_3)"
   ]
  },
  {
   "cell_type": "code",
   "execution_count": 60,
   "id": "disturbed-purple",
   "metadata": {},
   "outputs": [],
   "source": [
    "#we can see that NuSVC has more False Negatives than randomforest and logistic regression but at false positives all have got one wrong"
   ]
  },
  {
   "cell_type": "markdown",
   "id": "reasonable-gentleman",
   "metadata": {},
   "source": [
    "# Printing classification reports of models"
   ]
  },
  {
   "cell_type": "code",
   "execution_count": 62,
   "id": "interested-tyler",
   "metadata": {},
   "outputs": [],
   "source": [
    "from sklearn.metrics import classification_report"
   ]
  },
  {
   "cell_type": "code",
   "execution_count": 64,
   "id": "equal-producer",
   "metadata": {},
   "outputs": [
    {
     "name": "stdout",
     "output_type": "stream",
     "text": [
      "              precision    recall  f1-score   support\n",
      "\n",
      "           0       0.95      0.71      0.82        28\n",
      "           1       0.80      0.97      0.88        33\n",
      "\n",
      "    accuracy                           0.85        61\n",
      "   macro avg       0.88      0.84      0.85        61\n",
      "weighted avg       0.87      0.85      0.85        61\n",
      "\n"
     ]
    }
   ],
   "source": [
    "#NuSVC\n",
    "print(classification_report(y_test,y_preds_1))"
   ]
  },
  {
   "cell_type": "code",
   "execution_count": 65,
   "id": "moral-alarm",
   "metadata": {},
   "outputs": [
    {
     "name": "stdout",
     "output_type": "stream",
     "text": [
      "              precision    recall  f1-score   support\n",
      "\n",
      "           0       0.96      0.79      0.86        28\n",
      "           1       0.84      0.97      0.90        33\n",
      "\n",
      "    accuracy                           0.89        61\n",
      "   macro avg       0.90      0.88      0.88        61\n",
      "weighted avg       0.89      0.89      0.88        61\n",
      "\n"
     ]
    }
   ],
   "source": [
    "#RandomForest\n",
    "print(classification_report(y_test,y_preds_2))"
   ]
  },
  {
   "cell_type": "code",
   "execution_count": 68,
   "id": "southern-contamination",
   "metadata": {},
   "outputs": [
    {
     "name": "stdout",
     "output_type": "stream",
     "text": [
      "              precision    recall  f1-score   support\n",
      "\n",
      "           0       0.96      0.79      0.86        28\n",
      "           1       0.84      0.97      0.90        33\n",
      "\n",
      "    accuracy                           0.89        61\n",
      "   macro avg       0.90      0.88      0.88        61\n",
      "weighted avg       0.89      0.89      0.88        61\n",
      "\n"
     ]
    }
   ],
   "source": [
    "#logistic Regression\n",
    "print(classification_report(y_test,y_preds_3))"
   ]
  },
  {
   "cell_type": "markdown",
   "id": "intelligent-boost",
   "metadata": {},
   "source": [
    "# Cross validation"
   ]
  },
  {
   "cell_type": "code",
   "execution_count": 72,
   "id": "behavioral-bouquet",
   "metadata": {},
   "outputs": [],
   "source": [
    "#Nusvm\n",
    "#NUSVC_grid_search\n",
    "#Randf_grid_search\n",
    "#logreg_grid_search\n",
    "NUSVC_grid_search.best_params_\n",
    "clf_1 = NuSVC(gamma='scale',\n",
    "                kernel='linear')\n"
   ]
  },
  {
   "cell_type": "code",
   "execution_count": 76,
   "id": "faced-blake",
   "metadata": {},
   "outputs": [
    {
     "data": {
      "text/plain": [
       "0.8279781420765028"
      ]
     },
     "execution_count": 76,
     "metadata": {},
     "output_type": "execute_result"
    }
   ],
   "source": [
    "clf_1_acc = cross_val_score(clf_1,x,y,cv=5,scoring=\"accuracy\")\n",
    "clf_1_acc = np.mean(clf_1_acc)\n",
    "clf_1_acc"
   ]
  },
  {
   "cell_type": "code",
   "execution_count": 79,
   "id": "figured-farmer",
   "metadata": {},
   "outputs": [
    {
     "data": {
      "text/plain": [
       "0.7996353496353497"
      ]
     },
     "execution_count": 79,
     "metadata": {},
     "output_type": "execute_result"
    }
   ],
   "source": [
    "clf_1_pre = cross_val_score(clf_1,x,y,cv=5,scoring=\"precision\")\n",
    "clf_1_pre = np.mean(clf_1_pre)\n",
    "clf_1_pre"
   ]
  },
  {
   "cell_type": "code",
   "execution_count": 80,
   "id": "confused-luther",
   "metadata": {},
   "outputs": [
    {
     "data": {
      "text/plain": [
       "0.9151515151515153"
      ]
     },
     "execution_count": 80,
     "metadata": {},
     "output_type": "execute_result"
    }
   ],
   "source": [
    "clf_1_rec = cross_val_score(clf_1,x,y,cv=5,scoring=\"recall\")\n",
    "clf_1_rec = np.mean(clf_1_rec)\n",
    "clf_1_rec"
   ]
  },
  {
   "cell_type": "code",
   "execution_count": 82,
   "id": "stable-riverside",
   "metadata": {},
   "outputs": [
    {
     "data": {
      "text/plain": [
       "0.8528530020703935"
      ]
     },
     "execution_count": 82,
     "metadata": {},
     "output_type": "execute_result"
    }
   ],
   "source": [
    "clf_1_f1 = cross_val_score(clf_1,x,y,cv=5,scoring=\"f1\")\n",
    "clf_1_f1 = np.mean(clf_1_f1)\n",
    "clf_1_f1"
   ]
  },
  {
   "cell_type": "code",
   "execution_count": 89,
   "id": "hawaiian-progressive",
   "metadata": {},
   "outputs": [],
   "source": [
    "#RandomForest\n",
    "Randf_grid_search.best_params_\n",
    "clf_2 = RandomForestClassifier(max_depth= 5,\n",
    " min_samples_leaf= 6,\n",
    " min_samples_split= 7,\n",
    " n_estimators= 60)"
   ]
  },
  {
   "cell_type": "code",
   "execution_count": 91,
   "id": "juvenile-restriction",
   "metadata": {},
   "outputs": [
    {
     "data": {
      "text/plain": [
       "0.828360655737705"
      ]
     },
     "execution_count": 91,
     "metadata": {},
     "output_type": "execute_result"
    }
   ],
   "source": [
    "clf_2_acc = cross_val_score(clf_2,x,y,cv=5,scoring=\"accuracy\")\n",
    "clf_2_acc = np.mean(clf_2_acc)\n",
    "clf_2_acc"
   ]
  },
  {
   "cell_type": "code",
   "execution_count": 94,
   "id": "boring-forest",
   "metadata": {},
   "outputs": [
    {
     "data": {
      "text/plain": [
       "0.8228342245989305"
      ]
     },
     "execution_count": 94,
     "metadata": {},
     "output_type": "execute_result"
    }
   ],
   "source": [
    "clf_2_pre = cross_val_score(clf_2,x,y,cv=5,scoring=\"precision\")\n",
    "clf_2_pre = np.mean(clf_2_pre)\n",
    "clf_2_pre"
   ]
  },
  {
   "cell_type": "code",
   "execution_count": 95,
   "id": "horizontal-programmer",
   "metadata": {},
   "outputs": [
    {
     "data": {
      "text/plain": [
       "0.8969696969696971"
      ]
     },
     "execution_count": 95,
     "metadata": {},
     "output_type": "execute_result"
    }
   ],
   "source": [
    "clf_2_rec = cross_val_score(clf_2,x,y,cv=5,scoring=\"recall\")\n",
    "clf_2_rec = np.mean(clf_2_rec)\n",
    "clf_2_rec\n"
   ]
  },
  {
   "cell_type": "code",
   "execution_count": 97,
   "id": "answering-fifteen",
   "metadata": {},
   "outputs": [
    {
     "data": {
      "text/plain": [
       "0.8543916281200467"
      ]
     },
     "execution_count": 97,
     "metadata": {},
     "output_type": "execute_result"
    }
   ],
   "source": [
    "clf_2_f1 = cross_val_score(clf_2,x,y,cv=5,scoring=\"f1\")\n",
    "clf_2_f1 = np.mean(clf_2_f1)\n",
    "clf_2_f1"
   ]
  },
  {
   "cell_type": "code",
   "execution_count": 100,
   "id": "political-actor",
   "metadata": {},
   "outputs": [],
   "source": [
    "#LogisticRegression\n",
    "logreg_grid_search.best_params_\n",
    "clf_3 = LogisticRegression(C= 0.23357214690901212, solver = 'liblinear')"
   ]
  },
  {
   "cell_type": "code",
   "execution_count": 105,
   "id": "figured-applicant",
   "metadata": {},
   "outputs": [
    {
     "data": {
      "text/plain": [
       "0.8479781420765027"
      ]
     },
     "execution_count": 105,
     "metadata": {},
     "output_type": "execute_result"
    }
   ],
   "source": [
    "clf_3_acc = cross_val_score(clf_3,x,y,cv=5,scoring=\"accuracy\")\n",
    "clf_3_acc = np.mean(clf_3_acc)\n",
    "clf_3_acc"
   ]
  },
  {
   "cell_type": "code",
   "execution_count": 106,
   "id": "universal-galaxy",
   "metadata": {},
   "outputs": [
    {
     "data": {
      "text/plain": [
       "0.8215873015873015"
      ]
     },
     "execution_count": 106,
     "metadata": {},
     "output_type": "execute_result"
    }
   ],
   "source": [
    "clf_3_pre = cross_val_score(clf_3,x,y,cv=5,scoring=\"precision\")\n",
    "clf_3_pre = np.mean(clf_3_pre)\n",
    "clf_3_pre"
   ]
  },
  {
   "cell_type": "code",
   "execution_count": 107,
   "id": "designed-indicator",
   "metadata": {},
   "outputs": [
    {
     "data": {
      "text/plain": [
       "0.9272727272727274"
      ]
     },
     "execution_count": 107,
     "metadata": {},
     "output_type": "execute_result"
    }
   ],
   "source": [
    "clf_3_rec = cross_val_score(clf_3,x,y,cv=5,scoring=\"recall\")\n",
    "clf_3_rec = np.mean(clf_3_rec)\n",
    "clf_3_rec"
   ]
  },
  {
   "cell_type": "code",
   "execution_count": 109,
   "id": "essential-franchise",
   "metadata": {},
   "outputs": [
    {
     "data": {
      "text/plain": [
       "0.8705403543192143"
      ]
     },
     "execution_count": 109,
     "metadata": {},
     "output_type": "execute_result"
    }
   ],
   "source": [
    "clf_3_f1 = cross_val_score(clf_3,x,y,cv=5,scoring=\"f1\")\n",
    "clf_3_f1 = np.mean(clf_3_f1)\n",
    "clf_3_f1"
   ]
  },
  {
   "cell_type": "code",
   "execution_count": 123,
   "id": "ranging-mystery",
   "metadata": {},
   "outputs": [],
   "source": [
    "clf_1_cross_val = pd.DataFrame({\"Accuracy\":clf_1_acc,\n",
    "                               \"Precision\":clf_1_pre,\n",
    "                               \"recall\":clf_1_rec,\n",
    "                               \"f1\":clf_1_f1},index=[0])\n",
    "clf_2_cross_val = pd.DataFrame({\"Accuracy\":clf_2_acc,\n",
    "                               \"Precision\":clf_2_pre,\n",
    "                               \"recall\":clf_2_rec,\n",
    "                               \"f1\":clf_2_f1},index=[0])\n",
    "clf_3_cross_val = pd.DataFrame({\"Accuracy\":clf_3_acc,\n",
    "                               \"Precision\":clf_3_pre,\n",
    "                               \"recall\":clf_3_rec,\n",
    "                               \"f1\":clf_3_f1},index=[0])\n"
   ]
  },
  {
   "cell_type": "code",
   "execution_count": 120,
   "id": "psychological-hospital",
   "metadata": {},
   "outputs": [
    {
     "data": {
      "image/png": "[encoded data removed]",
      "text/plain": [
       "<Figure size 720x720 with 1 Axes>"
      ]
     },
     "metadata": {},
     "output_type": "display_data"
    }
   ],
   "source": [
    "clf_1_cross_val.T.plot.bar(figsize=(10,10),legend=False);"
   ]
  },
  {
   "cell_type": "code",
   "execution_count": 121,
   "id": "virtual-socket",
   "metadata": {},
   "outputs": [
    {
     "data": {
      "image/png": "[encoded data removed]",
      "text/plain": [
       "<Figure size 720x720 with 1 Axes>"
      ]
     },
     "metadata": {},
     "output_type": "display_data"
    }
   ],
   "source": [
    "clf_2_cross_val.T.plot.bar(figsize=(10,10),legend=False);"
   ]
  },
  {
   "cell_type": "code",
   "execution_count": 125,
   "id": "spoken-registration",
   "metadata": {},
   "outputs": [
    {
     "data": {
      "image/png": "[encoded data removed]",
      "text/plain": [
       "<Figure size 720x720 with 1 Axes>"
      ]
     },
     "metadata": {},
     "output_type": "display_data"
    }
   ],
   "source": [
    "clf_3_cross_val.T.plot.bar(figsize=(10,10),legend=False);"
   ]
  },
  {
   "cell_type": "markdown",
   "id": "noted-update",
   "metadata": {},
   "source": [
    "# feature importances of the three models"
   ]
  },
  {
   "cell_type": "code",
   "execution_count": 128,
   "id": "oriental-accused",
   "metadata": {},
   "outputs": [
    {
     "data": {
      "text/plain": [
       "NuSVC(kernel='linear')"
      ]
     },
     "execution_count": 128,
     "metadata": {},
     "output_type": "execute_result"
    }
   ],
   "source": [
    "#NuSVC\n",
    "clf_1.fit(x_train,y_train)"
   ]
  },
  {
   "cell_type": "code",
   "execution_count": 132,
   "id": "universal-league",
   "metadata": {},
   "outputs": [
    {
     "data": {
      "text/plain": [
       "{'age': 0.0009379686772750251,\n",
       " 'sex': -0.2983156243372773,\n",
       " 'cp': 0.4741835714544175,\n",
       " 'trestbps': -0.009925143273438852,\n",
       " 'chol': -0.0007853294184458903,\n",
       " 'fbs': -0.012677214880144852,\n",
       " 'restecg': 0.11610495981536142,\n",
       " 'thalach': 0.015319378271130724,\n",
       " 'exang': -0.32870200987620524,\n",
       " 'oldpeak': -0.23953408596277107,\n",
       " 'slope': 0.13180076470346835,\n",
       " 'ca': -0.4033118038946105,\n",
       " 'thal': -0.32893089813867576}"
      ]
     },
     "execution_count": 132,
     "metadata": {},
     "output_type": "execute_result"
    }
   ],
   "source": [
    "clf_1.coef_\n",
    "nusvc_feature_dict = dict(zip(heart_disease.columns,list(clf_1.coef_[0])))\n",
    "nusvc_feature_dict"
   ]
  },
  {
   "cell_type": "code",
   "execution_count": 136,
   "id": "green-future",
   "metadata": {},
   "outputs": [
    {
     "data": {
      "image/png": "[encoded data removed]",
      "text/plain": [
       "<Figure size 720x720 with 1 Axes>"
      ]
     },
     "metadata": {},
     "output_type": "display_data"
    }
   ],
   "source": [
    "visual_features_nusvc = pd.DataFrame(nusvc_feature_dict,index=[0])\n",
    "visual_features_nusvc.T.plot.bar(figsize = (10,10),legend=False);"
   ]
  },
  {
   "cell_type": "code",
   "execution_count": 151,
   "id": "exciting-popularity",
   "metadata": {},
   "outputs": [
    {
     "data": {
      "text/plain": [
       "array([0.07139384, 0.02780978, 0.20771651, 0.04217379, 0.03746021,\n",
       "       0.00182878, 0.00986466, 0.12513231, 0.06875077, 0.11435052,\n",
       "       0.04459577, 0.12424602, 0.12467705])"
      ]
     },
     "execution_count": 151,
     "metadata": {},
     "output_type": "execute_result"
    }
   ],
   "source": [
    "#randomforest\n",
    "clf_2.feature_importances_"
   ]
  },
  {
   "cell_type": "code",
   "execution_count": 152,
   "id": "social-romania",
   "metadata": {},
   "outputs": [
    {
     "name": "stdout",
     "output_type": "stream",
     "text": [
      "Feature: 0, Score: 0.07118\n",
      "Feature: 1, Score: 0.02604\n",
      "Feature: 2, Score: 0.23673\n",
      "Feature: 3, Score: 0.03454\n",
      "Feature: 4, Score: 0.03544\n",
      "Feature: 5, Score: 0.00140\n",
      "Feature: 6, Score: 0.00944\n",
      "Feature: 7, Score: 0.10368\n",
      "Feature: 8, Score: 0.06385\n",
      "Feature: 9, Score: 0.12111\n",
      "Feature: 10, Score: 0.03762\n",
      "Feature: 11, Score: 0.15565\n",
      "Feature: 12, Score: 0.10331\n"
     ]
    },
    {
     "data": {
      "image/png": "[encoded data removed]",
      "text/plain": [
       "<Figure size 720x720 with 1 Axes>"
      ]
     },
     "metadata": {},
     "output_type": "display_data"
    }
   ],
   "source": [
    "clf_2.fit(x_train,y_train)\n",
    "clf_2.feature_importances_\n",
    "importance = clf_2.feature_importances_\n",
    "for i,v in enumerate(importance):\n",
    "\tprint('Feature: %0d, Score: %.5f' % (i,v))\n",
    "    \n",
    "fig,ax = plt.subplots(figsize=(10,10))\n",
    "ax = ax.bar([x for x in range(len(importance))], importance)"
   ]
  },
  {
   "cell_type": "code",
   "execution_count": 154,
   "id": "numerical-financing",
   "metadata": {},
   "outputs": [
    {
     "data": {
      "text/plain": [
       "array([[ 0.00763667, -0.71024698,  0.7129698 , -0.02032843, -0.00141199,\n",
       "        -0.0344377 ,  0.35957966,  0.02731576, -0.62285876, -0.43226317,\n",
       "         0.3425029 , -0.6598191 , -0.50059834]])"
      ]
     },
     "execution_count": 154,
     "metadata": {},
     "output_type": "execute_result"
    }
   ],
   "source": [
    "#LogisticRegression\n",
    "clf_3.fit(x_train,y_train)\n",
    "clf_3.coef_"
   ]
  },
  {
   "cell_type": "code",
   "execution_count": 156,
   "id": "early-outreach",
   "metadata": {},
   "outputs": [
    {
     "data": {
      "text/plain": [
       "{'age': 0.007636668187492772,\n",
       " 'sex': -0.7102469829872642,\n",
       " 'cp': 0.7129697954702677,\n",
       " 'trestbps': -0.02032842825070029,\n",
       " 'chol': -0.0014119899888642444,\n",
       " 'fbs': -0.03443770474069875,\n",
       " 'restecg': 0.3595796602162117,\n",
       " 'thalach': 0.027315755976856718,\n",
       " 'exang': -0.6228587623879287,\n",
       " 'oldpeak': -0.4322631653947438,\n",
       " 'slope': 0.34250290291579216,\n",
       " 'ca': -0.6598190999557134,\n",
       " 'thal': -0.5005983402207499}"
      ]
     },
     "execution_count": 156,
     "metadata": {},
     "output_type": "execute_result"
    }
   ],
   "source": [
    "logistic_feature_dict = dict(zip(heart_disease.columns,list(clf_3.coef_[0])))\n",
    "logistic_feature_dict"
   ]
  },
  {
   "cell_type": "code",
   "execution_count": 158,
   "id": "eleven-chess",
   "metadata": {},
   "outputs": [
    {
     "data": {
      "image/png": "[encoded data removed]",
      "text/plain": [
       "<Figure size 720x720 with 1 Axes>"
      ]
     },
     "metadata": {},
     "output_type": "display_data"
    }
   ],
   "source": [
    "visual_features_logistic = pd.DataFrame(logistic_feature_dict,index=[0])\n",
    "visual_features_logistic.T.plot.bar(figsize = (10,10),legend=False,color = 'red', alpha = 0.5);"
   ]
  }
 ],
 "metadata": {
  "kernelspec": {
   "display_name": "Python 3",
   "language": "python",
   "name": "python3"
  },
  "language_info": {
   "codemirror_mode": {
    "name": "ipython",
    "version": 3
   },
   "file_extension": ".py",
   "mimetype": "text/x-python",
   "name": "python",
   "nbconvert_exporter": "python",
   "pygments_lexer": "ipython3",
   "version": "3.8.8"
  }
 },
 "nbformat": 4,
 "nbformat_minor": 5
}
